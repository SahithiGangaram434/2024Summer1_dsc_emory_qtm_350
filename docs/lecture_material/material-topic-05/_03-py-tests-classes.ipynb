{
 "cells": [
  {
   "cell_type": "markdown",
   "metadata": {
    "slideshow": {
     "slide_type": "slide"
    }
   },
   "source": [
    "\n",
    "# <center>Python - Unit Tests & Classes <a class=\"tocSkip\"></center>\n",
    "# <center>QTM 350: Data Science Computing <a class=\"tocSkip\"></center>    \n",
    "# <center>Davi Moreira <a class=\"tocSkip\"></center>\n",
    " \n"
   ]
  },
  {
   "cell_type": "markdown",
   "metadata": {
    "slideshow": {
     "slide_type": "slide"
    }
   },
   "source": [
    "## Learning Objectives\n",
    "<hr>"
   ]
  },
  {
   "cell_type": "markdown",
   "metadata": {
    "slideshow": {
     "slide_type": "fragment"
    }
   },
   "source": [
    "- Formulate a test case to prove a function design specification.\n",
    "- Use an `assert` statement to validate a test case.\n",
    "- Debug Python code with the `pdb` module, or by using `%debug` in a Jupyter code cell.\n",
    "- Describe the difference between a `class` and a `function` in Python.\n",
    "- Be able to create a `class`.\n",
    "- Differentiate between `instance attributes` and `class attributes`.\n",
    "- Differentiate between `methods`, `class methods` and `static methods`.\n",
    "- Understand and implement `subclassing`/`inheritance` with Python classes."
   ]
  },
  {
   "cell_type": "markdown",
   "metadata": {
    "slideshow": {
     "slide_type": "slide"
    }
   },
   "source": [
    "## Introduction\n",
    "<hr>\n",
    "\n",
    "The material assumes no prior knowledge of Python. Experience with programming concepts or another programming language will help, but is not required to understand the material.\n",
    "\n",
    "<br>\n",
    "\n",
    "<center>\n",
    "<div>\n",
    "<img src=\"https://raw.githubusercontent.com/davi-moreira/2024S_dsc_emory_qtm_350/main/lecture_material/material-topic-03/img/py4ds.png\" width=\"200\"/>\n",
    "</div>\n",
    "</center>\n",
    "\n",
    "\n",
    "This topic material is based on the [Python Programming for Data Science](https://www.tomasbeuzen.com/python-programming-for-data-science/README.html) book and adapted for our purposes in the course.\n"
   ]
  },
  {
   "cell_type": "markdown",
   "metadata": {
    "slideshow": {
     "slide_type": "slide"
    }
   },
   "source": [
    "## 1. Unit Tests\n",
    "<hr>"
   ]
  },
  {
   "cell_type": "markdown",
   "metadata": {
    "slideshow": {
     "slide_type": "fragment"
    }
   },
   "source": [
    "We discussed Python functions. But how can we be sure that our function is doing exactly what we expect it to do? **Unit testing** is the process of testing our function to ensure it's giving us the results we expect. Let's briefly introduce the concept here."
   ]
  },
  {
   "cell_type": "markdown",
   "metadata": {
    "slideshow": {
     "slide_type": "slide"
    }
   },
   "source": [
    "### `assert` Statements\n",
    "\n",
    "`assert` statements are the most common way to test your functions. They cause your program to fail if the tested condition is `False`. The syntax is:\n",
    "\n",
    "```python\n",
    "assert expression, \"Error message if expression is False or raises an error.\"\n",
    "```"
   ]
  },
  {
   "cell_type": "code",
   "execution_count": null,
   "metadata": {
    "slideshow": {
     "slide_type": "fragment"
    },
    "tags": [
     "raises-exception"
    ]
   },
   "outputs": [],
   "source": [
    "assert 1 == 2, \"1 is not equal to 2.\""
   ]
  },
  {
   "cell_type": "markdown",
   "metadata": {
    "slideshow": {
     "slide_type": "slide"
    }
   },
   "source": [
    "Asserting that two numbers are approximately equal can also be helpful. Due to the limitations of floating-point arithmetic in computers, numbers we expect to be equal are sometimes not:"
   ]
  },
  {
   "cell_type": "code",
   "execution_count": null,
   "metadata": {
    "slideshow": {
     "slide_type": "fragment"
    },
    "tags": [
     "raises-exception"
    ]
   },
   "outputs": [],
   "source": [
    "assert 0.1 + 0.2 == 0.3, \"Not equal!\""
   ]
  },
  {
   "cell_type": "code",
   "execution_count": null,
   "metadata": {
    "slideshow": {
     "slide_type": "fragment"
    }
   },
   "outputs": [],
   "source": [
    "import math  # we'll learn about importing modules later\n",
    "assert math.isclose(0.1 + 0.2, 0.3), \"Not equal!\""
   ]
  },
  {
   "cell_type": "markdown",
   "metadata": {
    "slideshow": {
     "slide_type": "slide"
    }
   },
   "source": [
    "You can test any statement that evaluates to a boolean:"
   ]
  },
  {
   "cell_type": "code",
   "execution_count": null,
   "metadata": {
    "slideshow": {
     "slide_type": "fragment"
    },
    "tags": [
     "raises-exception"
    ]
   },
   "outputs": [],
   "source": [
    "assert 'varada' in ['gabriel', 'davi', 'juliana'], \"Instructor not present!\""
   ]
  },
  {
   "cell_type": "markdown",
   "metadata": {
    "slideshow": {
     "slide_type": "slide"
    }
   },
   "source": [
    "### Test Driven Development"
   ]
  },
  {
   "cell_type": "markdown",
   "metadata": {
    "slideshow": {
     "slide_type": "fragment"
    }
   },
   "source": [
    "Test Driven Development (TDD) is where you write your tests before your actual function ([more here](https://py-pkgs.org/chapters/04-testing#when-to-write-your-tests)). This may seem a little counter-intuitive, but you're creating the expectations of your function before the actual function. This can be helpful for several reasons:\n",
    "- you will better understand exactly what code you need to write;\n",
    "- you are forced to write tests upfront;\n",
    "- you won’t encounter large time-consuming bugs down the line; and,\n",
    "- it helps to keep your workflow manageable by focussing on small, incremental code improvements and additions.\n",
    "\n",
    "In general, the approach is as follows:\n",
    "1. Write a stub: a function that does nothing but accept all input parameters and return the correct datatype.\n",
    "2. Write tests to satisfy your design specifications.\n",
    "3. Outline the program with pseudo-code.\n",
    "4. Write code and test frequently.\n",
    "5. Write documentation."
   ]
  },
  {
   "cell_type": "markdown",
   "metadata": {
    "slideshow": {
     "slide_type": "slide"
    }
   },
   "source": [
    "### EAFP vs LBYL"
   ]
  },
  {
   "cell_type": "markdown",
   "metadata": {
    "slideshow": {
     "slide_type": "fragment"
    }
   },
   "source": [
    "Somewhat related to testing and function design are the philosophies EAFP and LBYL. \n",
    "\n",
    "- EAFP = \"Easier to ask for fogiveness than permission\". In coding lingo: try doing something, and if it doesn't work, catch the error. \n",
    "- LBYL = \"Look before you leap\". In coding lingo: check that you can do something before trying to do it. \n",
    "\n",
    "These two acronyms refer to coding philosophies about how to write your code. Let's see an example:"
   ]
  },
  {
   "cell_type": "code",
   "execution_count": null,
   "metadata": {
    "slideshow": {
     "slide_type": "slide"
    }
   },
   "outputs": [],
   "source": [
    "d = {'name': 'Doctor Python',\n",
    "     'superpower': 'programming',\n",
    "     'weakness': 'mountain dew',\n",
    "     'enemies': 10}"
   ]
  },
  {
   "cell_type": "code",
   "execution_count": null,
   "metadata": {
    "slideshow": {
     "slide_type": "fragment"
    }
   },
   "outputs": [],
   "source": [
    "# EAFP\n",
    "try:\n",
    "    d['address']\n",
    "except KeyError:\n",
    "    print('Please forgive me!')"
   ]
  },
  {
   "cell_type": "code",
   "execution_count": null,
   "metadata": {
    "slideshow": {
     "slide_type": "fragment"
    }
   },
   "outputs": [],
   "source": [
    "# LBYL\n",
    "if 'address' in d.keys():\n",
    "    d['address']\n",
    "else:\n",
    "    print('Saved you before you leapt!')"
   ]
  },
  {
   "cell_type": "markdown",
   "metadata": {
    "slideshow": {
     "slide_type": "fragment"
    }
   },
   "source": [
    "While EAFP is often vouched for in Python, there's no right and wrong way to code and it's often context-specific. "
   ]
  },
  {
   "cell_type": "markdown",
   "metadata": {
    "slideshow": {
     "slide_type": "slide"
    }
   },
   "source": [
    "## 2. Debugging\n",
    "<hr>"
   ]
  },
  {
   "cell_type": "markdown",
   "metadata": {
    "slideshow": {
     "slide_type": "fragment"
    }
   },
   "source": [
    "So if your Python code doesn't work: what do you do? At the moment, most of you probably do \"manual testing\" or \"exploratory testing\". You keep changing your code until it works, maybe add some print statements around the place to isolate any problems. For example, consider the `random_walker` code below, adapted from [COS 126, Conditionals and Loops](http://www.cs.princeton.edu/courses/archive/fall10/cos126/assignments/loops.html):"
   ]
  },
  {
   "cell_type": "code",
   "execution_count": null,
   "metadata": {
    "slideshow": {
     "slide_type": "slide"
    },
    "tags": [
     "ignore"
    ]
   },
   "outputs": [],
   "source": [
    "from random import random\n",
    "\n",
    "def random_walker(T):\n",
    "    \"\"\"\n",
    "    Simulates T steps of a 2D random walk, and prints the result after each step.\n",
    "    Returns the squared distance from the origin.\n",
    "    \n",
    "    Parameters\n",
    "    ----------\n",
    "    T : int\n",
    "        The number of steps to take.\n",
    "        \n",
    "    Returns\n",
    "    -------\n",
    "    float\n",
    "        The squared distance from the origin to the endpoint, rounded to 2 decimals.\n",
    "        \n",
    "    Examples\n",
    "    --------\n",
    "    >>> random_walker(3)\n",
    "    (0, -1)\n",
    "    (0, 0)\n",
    "    (0, -1)\n",
    "    1.0\n",
    "    \"\"\"\n",
    "\n",
    "    x = 0\n",
    "    y = 0\n",
    "\n",
    "    for i in range(T):\n",
    "        rand = random()\n",
    "        if rand < 0.25:\n",
    "            x += 1\n",
    "        if rand < 0.5:\n",
    "            x -= 1\n",
    "        if rand < 0.75:\n",
    "            y += 1\n",
    "        else:\n",
    "            y -= 1\n",
    "        print((x, y))\n",
    "    return round((x ** 2 + y ** 2) ** 0.5, 2)\n",
    "\n",
    "random_walker(5)"
   ]
  },
  {
   "cell_type": "markdown",
   "metadata": {
    "slideshow": {
     "slide_type": "slide"
    }
   },
   "source": [
    "If we re-run the code above, our random walker never goes right (the x-coordinate is never +ve). We might try to add some print statements here to see what's going on:"
   ]
  },
  {
   "cell_type": "code",
   "execution_count": null,
   "metadata": {
    "slideshow": {
     "slide_type": "fragment"
    },
    "tags": [
     "ignore"
    ]
   },
   "outputs": [],
   "source": [
    "def random_walker(T):\n",
    "    \"\"\"\n",
    "    Simulates T steps of a 2D random walk, and prints the result after each step.\n",
    "    Returns the squared distance from the origin.\n",
    "    \n",
    "    Parameters\n",
    "    ----------\n",
    "    T : int\n",
    "        The number of steps to take.\n",
    "        \n",
    "    Returns\n",
    "    -------\n",
    "    float\n",
    "        The squared distance from the origin to the endpoint, rounded to 2 decimals.\n",
    "        \n",
    "    Examples\n",
    "    --------\n",
    "    >>> random_walker(3)\n",
    "    (0, -1)\n",
    "    (0, 0)\n",
    "    (0, -1)\n",
    "    1.0\n",
    "    \"\"\"\n",
    "\n",
    "    x = 0\n",
    "    y = 0\n",
    "\n",
    "    for i in range(T):\n",
    "        rand = random()\n",
    "        print(rand)\n",
    "        if rand < 0.25:\n",
    "            print(\"I'm going right!\")\n",
    "            x += 1\n",
    "        if rand < 0.5:\n",
    "            print(\"I'm going left!\")\n",
    "            x -= 1\n",
    "        if rand < 0.75:\n",
    "            y += 1\n",
    "        else:\n",
    "            y -= 1\n",
    "        print((x, y))\n",
    "    return round((x ** 2 + y ** 2) ** 0.5, 2)\n",
    "\n",
    "random_walker(5)"
   ]
  },
  {
   "cell_type": "markdown",
   "metadata": {
    "slideshow": {
     "slide_type": "slide"
    }
   },
   "source": [
    "Ah! We see that even every time after a `\"I'm going right!\"` we immediately get a `\"I'm going left!\"`. The problem is in our `if` statements, we should be using `elif` for each statement after the intial `if`, otherwise multiple conditions may be met each time.\n",
    "\n",
    "This was a pretty simple debugging case, adding print statements is not always helpful or efficient. Alternatively we can use the module `pdb`. [`pdb` is the Python Debugger](https://docs.python.org/3/library/pdb.html) included with the standard library. We can use `breakpoint()` to leverage `pdb` and set a \"break point\" at any point in our code and then inspect our variables. See the `pdb` docs [here](https://docs.python.org/3/library/pdb.html) and this [cheatsheet](https://ugoproto.github.io/ugo_py_doc/pdf/Python-Debugger-Cheatsheet.pdf) for help interacting with the debugger console."
   ]
  },
  {
   "cell_type": "code",
   "execution_count": null,
   "metadata": {
    "slideshow": {
     "slide_type": "fragment"
    },
    "tags": [
     "raises-exception"
    ]
   },
   "outputs": [],
   "source": [
    "def random_walker(T):\n",
    "    \"\"\"\n",
    "    Simulates T steps of a 2D random walk, and prints the result after each step.\n",
    "    Returns the squared distance from the origin.\n",
    "    \n",
    "    Parameters\n",
    "    ----------\n",
    "    T : int\n",
    "        The number of steps to take.\n",
    "        \n",
    "    Returns\n",
    "    -------\n",
    "    float\n",
    "        The squared distance from the origin to the endpoint, rounded to 2 decimals.\n",
    "        \n",
    "    Examples\n",
    "    --------\n",
    "    >>> random_walker(3)\n",
    "    (0, -1)\n",
    "    (0, 0)\n",
    "    (0, -1)\n",
    "    1.0\n",
    "    \"\"\"\n",
    "\n",
    "    x = 0\n",
    "    y = 0\n",
    "\n",
    "    for i in range(T):\n",
    "        rand = random()\n",
    "        breakpoint()\n",
    "        if rand < 0.25:\n",
    "            print(\"I'm going right!\")\n",
    "            x += 1\n",
    "        if rand < 0.5:\n",
    "            print(\"I'm going left!\")\n",
    "            x -= 1\n",
    "        if rand < 0.75:\n",
    "            y += 1\n",
    "        else:\n",
    "            y -= 1\n",
    "        print((x, y))\n",
    "    return round((x ** 2 + y ** 2) ** 0.5, 2)\n",
    "\n",
    "random_walker(5)"
   ]
  },
  {
   "cell_type": "markdown",
   "metadata": {
    "slideshow": {
     "slide_type": "slide"
    }
   },
   "source": [
    "So the correct code should be:"
   ]
  },
  {
   "cell_type": "code",
   "execution_count": null,
   "metadata": {
    "slideshow": {
     "slide_type": "fragment"
    },
    "tags": [
     "ignore"
    ]
   },
   "outputs": [],
   "source": [
    "def random_walker(T):\n",
    "    \"\"\"\n",
    "    Simulates T steps of a 2D random walk, and prints the result after each step.\n",
    "    Returns the squared distance from the origin.\n",
    "    \n",
    "    Parameters\n",
    "    ----------\n",
    "    T : int\n",
    "        The number of steps to take.\n",
    "        \n",
    "    Returns\n",
    "    -------\n",
    "    float\n",
    "        The squared distance from the origin to the endpoint, rounded to 2 decimals.\n",
    "        \n",
    "    Examples\n",
    "    --------\n",
    "    >>> random_walker(3)\n",
    "    (0, -1)\n",
    "    (0, 0)\n",
    "    (0, -1)\n",
    "    1.0\n",
    "    \"\"\"\n",
    "\n",
    "    x = 0\n",
    "    y = 0\n",
    "\n",
    "    for i in range(T):\n",
    "        rand = random()\n",
    "        if rand < 0.25:\n",
    "            x += 1\n",
    "        elif rand < 0.5:\n",
    "            x -= 1\n",
    "        elif rand < 0.75:\n",
    "            y += 1\n",
    "        else:\n",
    "            y -= 1\n",
    "        print((x, y))\n",
    "    return round((x ** 2 + y ** 2) ** 0.5, 2)\n",
    "\n",
    "random_walker(5)"
   ]
  },
  {
   "cell_type": "markdown",
   "metadata": {
    "slideshow": {
     "slide_type": "slide"
    }
   },
   "source": [
    "I wanted to show `pdb` because it's the standard Python debugger. Most Python IDE's also have their own debugging workflow, for example, here's a tutorial on [debugging in VSCode](https://code.visualstudio.com/docs/python/python-tutorial#_configure-and-run-the-debugger). Within Jupyter, there is some \"[magic](https://ipython.readthedocs.io/en/stable/interactive/magics.html#)\" commands that you can use. The one we are interested in here is `%debug`. There are a few ways you can use it, but the easiest is if a cell raises an error, we can create a new cell underneath and just write `%debug` and run that cell to debug our previous error."
   ]
  },
  {
   "cell_type": "code",
   "execution_count": null,
   "metadata": {
    "slideshow": {
     "slide_type": "fragment"
    },
    "tags": [
     "raises-exception"
    ]
   },
   "outputs": [],
   "source": [
    "x = 1\n",
    "x + 'string'"
   ]
  },
  {
   "cell_type": "code",
   "execution_count": null,
   "metadata": {
    "scrolled": false,
    "slideshow": {
     "slide_type": "fragment"
    },
    "tags": [
     "raises-exception"
    ]
   },
   "outputs": [],
   "source": [
    "%debug"
   ]
  },
  {
   "cell_type": "markdown",
   "metadata": {
    "slideshow": {
     "slide_type": "slide"
    }
   },
   "source": [
    "Here's a step-by-step guide on how to proceed within the IPython debugger (`ipdb`) environment:\n",
    "\n",
    "1. **Examine the Context**: Once in the `ipdb>` prompt, you can type `where` or `w` to see the context of the error, which shows you the stack trace of the exception.\n",
    "\n",
    "2. **Variable Inspection**: You can inspect the value of variables at the current point in the stack by simply typing the variable name. For example, typing `x` will show you the value of `x`.\n",
    "\n",
    "3. **Understand the Error**: Based on the error message and the context provided by the debugger, you should be able to identify that the issue is the attempt to add an integer to a string.\n",
    "\n",
    "4. **Testing Solutions**: The debugger allows you to execute Python code directly in the debugger to test potential solutions. For example, you could try converting the integer to a string before concatenation, `str(x) + 'string'`, to see if that resolves the issue.\n",
    "\n",
    "5. **Exiting the Debugger**: Once you understand the error and know how to fix it, you can exit the debugger by typing `exit` or `q` (for quit).\n",
    "\n",
    "\n",
    "Using the `%debug` magic command in Jupyter notebooks is an effective way to interactively diagnose errors in your code. It allows for a deeper investigation into the state of your program at the point where an exception occurs, facilitating a more informed and precise correction process."
   ]
  },
  {
   "cell_type": "markdown",
   "metadata": {
    "slideshow": {
     "slide_type": "fragment"
    }
   },
   "source": [
    "The JupyterLab [variable inspector extension](https://github.com/lckr/jupyterlab-variableInspector) is another related helpful tool."
   ]
  },
  {
   "cell_type": "markdown",
   "metadata": {
    "slideshow": {
     "slide_type": "slide"
    }
   },
   "source": [
    "## 3. Python Classes\n",
    "<hr>"
   ]
  },
  {
   "cell_type": "markdown",
   "metadata": {
    "slideshow": {
     "slide_type": "fragment"
    }
   },
   "source": [
    "We've seen data types like `dict` and `list` which are built into Python. We can also create our own data types. These are called **classes** and an instance of a class is called an **object** (classes documentation [here](https://docs.python.org/3/tutorial/classes.html)). The general approach to programming using classes and objects is called [object-oriented programming](https://en.wikipedia.org/wiki/Object-oriented_programming)"
   ]
  },
  {
   "cell_type": "code",
   "execution_count": null,
   "metadata": {
    "slideshow": {
     "slide_type": "slide"
    }
   },
   "outputs": [],
   "source": [
    "d = dict()"
   ]
  },
  {
   "cell_type": "markdown",
   "metadata": {
    "slideshow": {
     "slide_type": "fragment"
    }
   },
   "source": [
    "Here, `d` is an object, whereas `dict` is a type "
   ]
  },
  {
   "cell_type": "code",
   "execution_count": null,
   "metadata": {
    "slideshow": {
     "slide_type": "fragment"
    }
   },
   "outputs": [],
   "source": [
    "type(d)"
   ]
  },
  {
   "cell_type": "code",
   "execution_count": null,
   "metadata": {
    "slideshow": {
     "slide_type": "fragment"
    }
   },
   "outputs": [],
   "source": [
    "type(dict)"
   ]
  },
  {
   "cell_type": "markdown",
   "metadata": {
    "slideshow": {
     "slide_type": "slide"
    }
   },
   "source": [
    "We say `d` is an **instance** of the **type** `dict`. Hence:"
   ]
  },
  {
   "cell_type": "code",
   "execution_count": null,
   "metadata": {
    "slideshow": {
     "slide_type": "fragment"
    }
   },
   "outputs": [],
   "source": [
    "isinstance(d, dict)"
   ]
  },
  {
   "cell_type": "markdown",
   "metadata": {
    "slideshow": {
     "slide_type": "slide"
    }
   },
   "source": [
    "### Why Create Your Own Types/Classes?\n",
    "\n",
    "\"Classes provide a means of bundling data and functionality together\" (from the [Python docs](https://docs.python.org/3/tutorial/classes.html)), in a way that's easy to use, reuse and build upon. It's easiest to discover the utility of classes through an example so let's get started!\n",
    "\n",
    "Say we want to start storing information about students and instructors in the University's Data Science Program (DSP).\n",
    "\n",
    "We'll start with first name, last name, and email address in a dictionary:"
   ]
  },
  {
   "cell_type": "code",
   "execution_count": null,
   "metadata": {
    "slideshow": {
     "slide_type": "fragment"
    }
   },
   "outputs": [],
   "source": [
    "dsp_1 = {'first': 'Davi',\n",
    "         'last': 'Moreira',\n",
    "         'email': 'davi.moreira@dsp.com'}"
   ]
  },
  {
   "cell_type": "markdown",
   "metadata": {
    "slideshow": {
     "slide_type": "slide"
    }
   },
   "source": [
    "We also want to be able to extract a member's full name from their first and last name, but don't want to have to write out this information again. A function could be good for this:"
   ]
  },
  {
   "cell_type": "code",
   "execution_count": null,
   "metadata": {
    "slideshow": {
     "slide_type": "fragment"
    }
   },
   "outputs": [],
   "source": [
    "def full_name(first, last):\n",
    "    \"\"\"Concatenate first and last with a space.\"\"\"\n",
    "    return f\"{first} {last}\""
   ]
  },
  {
   "cell_type": "code",
   "execution_count": null,
   "metadata": {
    "slideshow": {
     "slide_type": "fragment"
    }
   },
   "outputs": [],
   "source": [
    "full_name(dsp_1['first'], dsp_1['last'])"
   ]
  },
  {
   "cell_type": "markdown",
   "metadata": {
    "slideshow": {
     "slide_type": "slide"
    }
   },
   "source": [
    "We can just copy-paste the same code to create new members:"
   ]
  },
  {
   "cell_type": "code",
   "execution_count": null,
   "metadata": {
    "slideshow": {
     "slide_type": "fragment"
    }
   },
   "outputs": [],
   "source": [
    "dsp_2 = {'first': 'Juliana',\n",
    "         'last': 'Carnaval',\n",
    "         'email': 'juliana.carnaval@dsp.com'}\n",
    "full_name(dsp_2['first'], dsp_2['last'])"
   ]
  },
  {
   "cell_type": "markdown",
   "metadata": {
    "slideshow": {
     "slide_type": "slide"
    }
   },
   "source": [
    "### Creating a Class\n",
    "\n",
    "The above was pretty inefficient. You can imagine that the more objects we want and the more complicated the objects get (more data, more functions) the worse this problem becomes! However, this is a perfect use case for a class! A class can be thought of as a **blueprint** for creating objects, in this case DSP members.\n",
    "\n",
    "**Terminology alert**:\n",
    "- Class data = \"Attributes\"\n",
    "- Class functions = \"Methods\"\n",
    "\n",
    "**Syntax alert**:\n",
    "- We define a class with the `class` keyword, followed by a name and a colon (`:`):"
   ]
  },
  {
   "cell_type": "code",
   "execution_count": null,
   "metadata": {
    "slideshow": {
     "slide_type": "slide"
    }
   },
   "outputs": [],
   "source": [
    "class dsp_member:\n",
    "    pass"
   ]
  },
  {
   "cell_type": "code",
   "execution_count": null,
   "metadata": {
    "slideshow": {
     "slide_type": "fragment"
    }
   },
   "outputs": [],
   "source": [
    "dsp_1 = dsp_member()\n",
    "type(dsp_1)"
   ]
  },
  {
   "cell_type": "markdown",
   "metadata": {
    "slideshow": {
     "slide_type": "slide"
    }
   },
   "source": [
    "We can add an `__init__` method to our class which will be run every time we create a new instance, for example, to add data to the instance. Let's add an `__init__` method to our `dsp_member` class. `self` refers to the instance of a class and should always be passed to class methods as the first argument."
   ]
  },
  {
   "cell_type": "code",
   "execution_count": null,
   "metadata": {
    "slideshow": {
     "slide_type": "fragment"
    }
   },
   "outputs": [],
   "source": [
    "class dsp_member:\n",
    "    \n",
    "    def __init__(self, first, last):\n",
    "        # the below are called \"attributes\"\n",
    "        self.first = first\n",
    "        self.last = last\n",
    "        self.email = first.lower() + \".\" + last.lower() + \"@dsp.com\""
   ]
  },
  {
   "cell_type": "code",
   "execution_count": null,
   "metadata": {
    "slideshow": {
     "slide_type": "fragment"
    }
   },
   "outputs": [],
   "source": [
    "dsp_1 = dsp_member('Gabriel', 'Moreira')\n",
    "print(dsp_1.first)\n",
    "print(dsp_1.last)\n",
    "print(dsp_1.email)"
   ]
  },
  {
   "cell_type": "markdown",
   "metadata": {
    "slideshow": {
     "slide_type": "slide"
    }
   },
   "source": [
    "To get the full name, we can use the function we defined earlier:"
   ]
  },
  {
   "cell_type": "code",
   "execution_count": null,
   "metadata": {
    "slideshow": {
     "slide_type": "fragment"
    }
   },
   "outputs": [],
   "source": [
    "full_name(dsp_1.first, dsp_1.last)"
   ]
  },
  {
   "cell_type": "markdown",
   "metadata": {
    "slideshow": {
     "slide_type": "slide"
    }
   },
   "source": [
    "But a better way to do this is to integrate this function into our class as a `method`:"
   ]
  },
  {
   "cell_type": "code",
   "execution_count": null,
   "metadata": {
    "slideshow": {
     "slide_type": "fragment"
    }
   },
   "outputs": [],
   "source": [
    "class dsp_member:\n",
    "    \n",
    "    def __init__(self, first, last):\n",
    "        self.first = first\n",
    "        self.last = last\n",
    "        self.email = first.lower() + \".\" + last.lower() + \"@dsp.com\"\n",
    "        \n",
    "    def full_name(self):\n",
    "        return f\"{self.first} {self.last}\""
   ]
  },
  {
   "cell_type": "code",
   "execution_count": null,
   "metadata": {
    "slideshow": {
     "slide_type": "slide"
    }
   },
   "outputs": [],
   "source": [
    "dsp_1 = dsp_member('Gabriel', 'Moreira')\n",
    "print(dsp_1.first)\n",
    "print(dsp_1.last)\n",
    "print(dsp_1.email)\n",
    "print(dsp_1.full_name())"
   ]
  },
  {
   "cell_type": "markdown",
   "metadata": {
    "slideshow": {
     "slide_type": "fragment"
    }
   },
   "source": [
    "Notice that we need the parentheses above because we are calling a `method` (think of it as a function), not an `attribute`."
   ]
  },
  {
   "cell_type": "markdown",
   "metadata": {
    "slideshow": {
     "slide_type": "slide"
    }
   },
   "source": [
    "### Instance & Class Attributes\n",
    "\n",
    "Attributes like `dsp_1.first` are sometimes called `instance attributes`. They are specific to the object we have created. But we can also set `class attributes` which are the same amongst all instances of a class, they are defined outside of the `__init__` method."
   ]
  },
  {
   "cell_type": "code",
   "execution_count": null,
   "metadata": {
    "slideshow": {
     "slide_type": "fragment"
    }
   },
   "outputs": [],
   "source": [
    "class dsp_member:\n",
    "    \n",
    "    role = \"DSP member\" # class attributes\n",
    "    campus = \"Atlanta\"\n",
    "    \n",
    "    def __init__(self, first, last):\n",
    "        self.first = first\n",
    "        self.last = last\n",
    "        self.email = first.lower() + \".\" + last.lower() + \"@dsp.com\"\n",
    "        \n",
    "    def full_name(self):\n",
    "        return f\"{self.first} {self.last}\""
   ]
  },
  {
   "cell_type": "markdown",
   "metadata": {
    "slideshow": {
     "slide_type": "slide"
    }
   },
   "source": [
    "All instances of our class share the class attribute:"
   ]
  },
  {
   "cell_type": "code",
   "execution_count": null,
   "metadata": {
    "slideshow": {
     "slide_type": "fragment"
    }
   },
   "outputs": [],
   "source": [
    "dsp_1 = dsp_member('Davi', 'Moreira')\n",
    "dsp_2 = dsp_member('Juliana', 'Carnaval')\n",
    "print(f\"{dsp_1.first} is at campus {dsp_1.campus}.\")\n",
    "print(f\"{dsp_2.first} is at campus {dsp_2.campus}.\")"
   ]
  },
  {
   "cell_type": "markdown",
   "metadata": {
    "slideshow": {
     "slide_type": "slide"
    }
   },
   "source": [
    "We can even change the class attribute after our instances have been created. This will affect all of our created instances:"
   ]
  },
  {
   "cell_type": "code",
   "execution_count": null,
   "metadata": {
    "slideshow": {
     "slide_type": "fragment"
    }
   },
   "outputs": [],
   "source": [
    "dsp_1 = dsp_member('Davi', 'Moreira')\n",
    "dsp_2 = dsp_member('Gabriel', 'Moreira')\n",
    "dsp_member.campus = 'Atlanta Main'\n",
    "\n",
    "print(f\"{dsp_1.first} is at campus {dsp_1.campus}.\")\n",
    "print(f\"{dsp_2.first} is at campus {dsp_2.campus}.\")"
   ]
  },
  {
   "cell_type": "markdown",
   "metadata": {
    "slideshow": {
     "slide_type": "slide"
    }
   },
   "source": [
    "You can also change the class attribute for just a single instance. But this is typically not recommended because if you want differing attributes for instances, you should probably use `instance attributes`."
   ]
  },
  {
   "cell_type": "code",
   "execution_count": null,
   "metadata": {
    "slideshow": {
     "slide_type": "fragment"
    }
   },
   "outputs": [],
   "source": [
    "class dsp_member:\n",
    "    \n",
    "    role = \"DSP member\"\n",
    "    campus = \"Atlanta\"\n",
    "    \n",
    "    def __init__(self, first, last):\n",
    "        self.first = first\n",
    "        self.last = last\n",
    "        self.email = first.lower() + \".\" + last.lower() + \"@dsp.com\"\n",
    "        \n",
    "    def full_name(self):\n",
    "        return f\"{self.first} {self.last}\""
   ]
  },
  {
   "cell_type": "code",
   "execution_count": null,
   "metadata": {
    "slideshow": {
     "slide_type": "fragment"
    }
   },
   "outputs": [],
   "source": [
    "dsp_1 = dsp_member('Davi', 'Moreira')\n",
    "dsp_2 = dsp_member('Gabriel', 'Moreira')\n",
    "dsp_1.campus = 'Atlanta Main'\n",
    "\n",
    "print(f\"{dsp_1.first} is at campus {dsp_1.campus}.\")\n",
    "print(f\"{dsp_2.first} is at campus {dsp_2.campus}.\")"
   ]
  },
  {
   "cell_type": "markdown",
   "metadata": {
    "slideshow": {
     "slide_type": "slide"
    }
   },
   "source": [
    "### Methods, Class Methods & Static Methods\n",
    "\n",
    "The `methods` we've seen so far are sometimes called \"regular\" `methods`, they act on an instance of the class (i.e., take `self` as an argument). We also have `class methods` that act on the actual class. `class methods` are often used as \"alternative constructors\". As an example, let's say that somebody commonly wants to use our class with comma-separated names like the following:"
   ]
  },
  {
   "cell_type": "code",
   "execution_count": null,
   "metadata": {
    "slideshow": {
     "slide_type": "fragment"
    }
   },
   "outputs": [],
   "source": [
    "name = 'Davi,Moreira'"
   ]
  },
  {
   "cell_type": "markdown",
   "metadata": {
    "slideshow": {
     "slide_type": "slide"
    }
   },
   "source": [
    "Unfortunately, those users can't do this:"
   ]
  },
  {
   "cell_type": "code",
   "execution_count": null,
   "metadata": {
    "slideshow": {
     "slide_type": "fragment"
    },
    "tags": [
     "raises-exception"
    ]
   },
   "outputs": [],
   "source": [
    "dsp_member(name)"
   ]
  },
  {
   "cell_type": "markdown",
   "metadata": {
    "slideshow": {
     "slide_type": "slide"
    }
   },
   "source": [
    "To use our class, they would need to parse this string into `first` and `last`:"
   ]
  },
  {
   "cell_type": "code",
   "execution_count": null,
   "metadata": {
    "slideshow": {
     "slide_type": "fragment"
    }
   },
   "outputs": [],
   "source": [
    "first, last = name.split(',')\n",
    "print(first)\n",
    "print(last)"
   ]
  },
  {
   "cell_type": "markdown",
   "metadata": {
    "slideshow": {
     "slide_type": "slide"
    }
   },
   "source": [
    "Then they could make an instance of our class:"
   ]
  },
  {
   "cell_type": "code",
   "execution_count": null,
   "metadata": {
    "slideshow": {
     "slide_type": "fragment"
    }
   },
   "outputs": [],
   "source": [
    "dsp_1 = dsp_member(first, last)"
   ]
  },
  {
   "cell_type": "markdown",
   "metadata": {
    "slideshow": {
     "slide_type": "slide"
    }
   },
   "source": [
    "If this is a common use case for the users of our code, we don't want them to have to coerce the data every time before using our class. Instead, we can facilitate their use-case with a `class method`. There are two things we need to do to use a `class method`:\n",
    "1. Identify our method as `class method` using the decorator `@classmethod` (more on decorators in a bit);\n",
    "2. Pass `cls` instead of `self` as the first argument."
   ]
  },
  {
   "cell_type": "code",
   "execution_count": null,
   "metadata": {
    "slideshow": {
     "slide_type": "fragment"
    }
   },
   "outputs": [],
   "source": [
    "class dsp_member:\n",
    "\n",
    "    role = \"DSP member\"\n",
    "    campus = \"Atlanta\"\n",
    "    \n",
    "    def __init__(self, first, last):\n",
    "        self.first = first\n",
    "        self.last = last\n",
    "        self.email = first.lower() + \".\" + last.lower() + \"@dsp.com\"\n",
    "        \n",
    "    def full_name(self):\n",
    "        return f\"{self.first} {self.last}\"\n",
    "    \n",
    "    @classmethod\n",
    "    def from_csv(cls, csv_name):\n",
    "        first, last = csv_name.split(',')\n",
    "        return cls(first, last)"
   ]
  },
  {
   "cell_type": "markdown",
   "metadata": {
    "slideshow": {
     "slide_type": "slide"
    }
   },
   "source": [
    "Now we can use our comma-separated values directly!"
   ]
  },
  {
   "cell_type": "code",
   "execution_count": null,
   "metadata": {
    "slideshow": {
     "slide_type": "fragment"
    }
   },
   "outputs": [],
   "source": [
    "dsp_1 = dsp_member.from_csv('Davi,Moreira')\n",
    "dsp_1.full_name()"
   ]
  },
  {
   "cell_type": "markdown",
   "metadata": {
    "slideshow": {
     "slide_type": "slide"
    }
   },
   "source": [
    "There is a third kind of method called a `static method`. `static methods` do not operate on either the instance or the class, they are just simple functions. But we might want to include them in our class because they are somehow related to our class. They are defined using the `@staticmethod` decorator:"
   ]
  },
  {
   "cell_type": "code",
   "execution_count": null,
   "metadata": {
    "slideshow": {
     "slide_type": "fragment"
    }
   },
   "outputs": [],
   "source": [
    "class dsp_member:\n",
    "    \n",
    "    role = \"DSP member\"\n",
    "    campus = \"Atlanta\"\n",
    "    \n",
    "    def __init__(self, first, last):\n",
    "        self.first = first\n",
    "        self.last = last\n",
    "        self.email = first.lower() + \".\" + last.lower() + \"@dsp.com\"\n",
    "        \n",
    "    def full_name(self):\n",
    "        return f\"{self.first} {self.last}\"\n",
    "    \n",
    "    @classmethod\n",
    "    def from_csv(cls, csv_name):\n",
    "        first, last = csv_name.split(',')\n",
    "        return cls(first, last)\n",
    "    \n",
    "    @staticmethod\n",
    "    def is_quizweek(week):\n",
    "        return True if week in [3, 5] else False"
   ]
  },
  {
   "cell_type": "markdown",
   "metadata": {
    "slideshow": {
     "slide_type": "slide"
    }
   },
   "source": [
    "Note that the method `is_quizweek()` does not accept or use the `self` argument. But it is still DSP-related, so we might want to include it here."
   ]
  },
  {
   "cell_type": "code",
   "execution_count": null,
   "metadata": {
    "slideshow": {
     "slide_type": "fragment"
    }
   },
   "outputs": [],
   "source": [
    "dsp_1 = dsp_member.from_csv('Davi,Moreira')\n",
    "print(f\"Is week 1 a quiz week? {dsp_1.is_quizweek(1)}\")\n",
    "print(f\"Is week 3 a quiz week? {dsp_1.is_quizweek(3)}\")"
   ]
  },
  {
   "cell_type": "markdown",
   "metadata": {
    "slideshow": {
     "slide_type": "slide"
    }
   },
   "source": [
    "### Decorators\n",
    "\n",
    "Decorators can be quite a complex topic, you can read more about them [here](https://realpython.com/primer-on-python-decorators/). Briefly, they are what they sounds like, they \"decorate\" functions/methods with additional functionality. You can think of a decorator as a function that takes another function and adds functionality.\n",
    "\n",
    "Let's create a decorator as an example. Recall that functions are data types in Python, they can be passed to other functions. So a decorator simply takes a function as an argument, adds some more functionality to it, and returns a \"decorated function\" that can be executed."
   ]
  },
  {
   "cell_type": "code",
   "execution_count": null,
   "metadata": {
    "slideshow": {
     "slide_type": "fragment"
    }
   },
   "outputs": [],
   "source": [
    "# some function we wish to decorate\n",
    "def original_func():\n",
    "    print(\"I'm the original function!\")\n",
    "\n",
    "# a decorator\n",
    "def my_decorator(original_func):  # takes our original function as input\n",
    "    \n",
    "    def wrapper():  # wraps our original function with some extra functionality\n",
    "        print(f\"A decoration before {original_func.__name__}.\")\n",
    "        result = original_func()\n",
    "        print(f\"A decoration after {original_func.__name__}.\")\n",
    "        return result\n",
    "    \n",
    "    return wrapper  # returns the unexecuted wrapper function which we can can excute later"
   ]
  },
  {
   "cell_type": "markdown",
   "metadata": {
    "slideshow": {
     "slide_type": "slide"
    }
   },
   "source": [
    "The `my_decorator()` function will return to us a function which is the decorated version of our original function."
   ]
  },
  {
   "cell_type": "code",
   "execution_count": null,
   "metadata": {
    "slideshow": {
     "slide_type": "fragment"
    }
   },
   "outputs": [],
   "source": [
    "my_decorator(original_func)"
   ]
  },
  {
   "cell_type": "markdown",
   "metadata": {
    "slideshow": {
     "slide_type": "slide"
    }
   },
   "source": [
    "As a function was returned to us, we can execute it by adding parentheses:"
   ]
  },
  {
   "cell_type": "code",
   "execution_count": null,
   "metadata": {
    "slideshow": {
     "slide_type": "fragment"
    }
   },
   "outputs": [],
   "source": [
    "my_decorator(original_func)()"
   ]
  },
  {
   "cell_type": "markdown",
   "metadata": {
    "slideshow": {
     "slide_type": "slide"
    }
   },
   "source": [
    "We can decorate any arbitrary function with our decorator:"
   ]
  },
  {
   "cell_type": "code",
   "execution_count": null,
   "metadata": {
    "slideshow": {
     "slide_type": "fragment"
    }
   },
   "outputs": [],
   "source": [
    "def another_func():\n",
    "    print(\"I'm a different function!\")\n",
    "\n",
    "my_decorator(another_func)()"
   ]
  },
  {
   "cell_type": "markdown",
   "metadata": {
    "slideshow": {
     "slide_type": "slide"
    }
   },
   "source": [
    "The syntax of calling our decorator is not that readable. Instead, we can use the `@` symbol as \"syntactic sugar\" to improve readability and reuseability of decorators:"
   ]
  },
  {
   "cell_type": "code",
   "execution_count": null,
   "metadata": {
    "slideshow": {
     "slide_type": "fragment"
    }
   },
   "outputs": [],
   "source": [
    "@my_decorator\n",
    "def one_more_func():\n",
    "    print(\"One more function...\")\n",
    "    \n",
    "one_more_func()"
   ]
  },
  {
   "cell_type": "markdown",
   "metadata": {
    "slideshow": {
     "slide_type": "slide"
    }
   },
   "source": [
    "Okay, let's make something a little more useful. We will create a decorator that times the execution time of any arbitrary function:"
   ]
  },
  {
   "cell_type": "code",
   "execution_count": null,
   "metadata": {
    "slideshow": {
     "slide_type": "fragment"
    }
   },
   "outputs": [],
   "source": [
    "import time  # import the time module, we'll learn about imports later\n",
    "\n",
    "def timer(my_function):  # the decorator\n",
    "    \n",
    "    def wrapper():  # the added functionality\n",
    "        t1 = time.time()\n",
    "        result = my_function()  # the original function\n",
    "        t2 = time.time()\n",
    "        print(f\"{my_function.__name__} ran in {t2 - t1:.3f} sec\")  # print the execution time\n",
    "        return result\n",
    "    return wrapper"
   ]
  },
  {
   "cell_type": "code",
   "execution_count": null,
   "metadata": {
    "slideshow": {
     "slide_type": "slide"
    }
   },
   "outputs": [],
   "source": [
    "@timer\n",
    "def silly_function():\n",
    "    for i in range(10_000_000):\n",
    "        if (i % 1_000_000) == 0:\n",
    "            print(i) \n",
    "        else:\n",
    "            pass\n",
    "        \n",
    "silly_function()"
   ]
  },
  {
   "cell_type": "markdown",
   "metadata": {
    "slideshow": {
     "slide_type": "fragment"
    }
   },
   "source": [
    "Python's built-in decorators like `classmethod` and `staticmethod` are coded in C."
   ]
  },
  {
   "cell_type": "markdown",
   "metadata": {
    "slideshow": {
     "slide_type": "slide"
    }
   },
   "source": [
    "### Inheritance & Subclasses\n",
    "\n",
    "Just like it sounds, inheritance allows us to \"inherit\" methods and attributes from another class. So far, we've been working with an `dsp_member` class. But let's get more specific and create a `dsp_student` and `dsp_instructor` class. Recall this was `dsp_member`:"
   ]
  },
  {
   "cell_type": "code",
   "execution_count": null,
   "metadata": {
    "slideshow": {
     "slide_type": "fragment"
    }
   },
   "outputs": [],
   "source": [
    "class dsp_member:\n",
    "    \n",
    "    role = \"DSP member\"\n",
    "    campus = \"Atlanta\"\n",
    "    \n",
    "    def __init__(self, first, last):\n",
    "        self.first = first\n",
    "        self.last = last\n",
    "        self.email = first.lower() + \".\" + last.lower() + \"@dsp.com\"\n",
    "        \n",
    "    def full_name(self):\n",
    "        return f\"{self.first} {self.last}\"\n",
    "    \n",
    "    @classmethod\n",
    "    def from_csv(cls, csv):\n",
    "        first, last = csv_name.split(',')\n",
    "        return cls(first, last)\n",
    "    \n",
    "    @staticmethod\n",
    "    def is_quizweek(week):\n",
    "        return True if week in [3, 5] else False"
   ]
  },
  {
   "cell_type": "markdown",
   "metadata": {
    "slideshow": {
     "slide_type": "slide"
    }
   },
   "source": [
    "We can create an `dsp_student` class that inherits all of the attributes and methods from our `dsp_member` class by  by simply passing the `dsp_member` class as an argument to an `dsp_student` class definition:"
   ]
  },
  {
   "cell_type": "code",
   "execution_count": null,
   "metadata": {
    "slideshow": {
     "slide_type": "fragment"
    }
   },
   "outputs": [],
   "source": [
    "class dsp_student(dsp_member):\n",
    "    pass"
   ]
  },
  {
   "cell_type": "code",
   "execution_count": null,
   "metadata": {
    "slideshow": {
     "slide_type": "fragment"
    }
   },
   "outputs": [],
   "source": [
    "student_1 = dsp_student('Juliana', 'Carnaval')\n",
    "student_2 = dsp_student('Gabriel', 'Moreira')\n",
    "print(student_1.full_name())\n",
    "print(student_2.full_name())"
   ]
  },
  {
   "cell_type": "markdown",
   "metadata": {
    "slideshow": {
     "slide_type": "slide"
    }
   },
   "source": [
    "What happened here is that our `dsp_student` instance first looked in the `dsp_student` class for an `__init__` method, which it didn't find. It then looked for the `__init__` method in the inherited `dsp_member` class and found something to use! This order is called the \"[method resolution order](https://www.python.org/download/releases/2.3/mro/)\". We can inspect it directly using the `help()` function:"
   ]
  },
  {
   "cell_type": "code",
   "execution_count": null,
   "metadata": {
    "slideshow": {
     "slide_type": "slide"
    }
   },
   "outputs": [],
   "source": [
    "help(dsp_student)"
   ]
  },
  {
   "cell_type": "markdown",
   "metadata": {
    "slideshow": {
     "slide_type": "slide"
    }
   },
   "source": [
    "Okay, let's fine-tune our `dsp_student` class. The first thing we might want to do is change the role of the student instances to \"DSP Student\". We can do that by simply adding a `class attribute` to our `dsp_student` class. Any attributes or methods not \"over-ridden\" in the `dsp_student` class will just be inherited from the `dsp_member` class."
   ]
  },
  {
   "cell_type": "code",
   "execution_count": null,
   "metadata": {
    "slideshow": {
     "slide_type": "fragment"
    }
   },
   "outputs": [],
   "source": [
    "class dsp_student(dsp_member):\n",
    "    role = \"DSP student\""
   ]
  },
  {
   "cell_type": "code",
   "execution_count": null,
   "metadata": {
    "slideshow": {
     "slide_type": "fragment"
    }
   },
   "outputs": [],
   "source": [
    "student_1 = dsp_student('Juliana', 'Carnaval')\n",
    "print(student_1.role)\n",
    "print(student_1.campus)\n",
    "print(student_1.full_name())"
   ]
  },
  {
   "cell_type": "markdown",
   "metadata": {
    "slideshow": {
     "slide_type": "slide"
    }
   },
   "source": [
    "Now let's add an `instance attribute` to our class called `grade`. You might be tempted to do something like this:"
   ]
  },
  {
   "cell_type": "code",
   "execution_count": null,
   "metadata": {
    "slideshow": {
     "slide_type": "fragment"
    }
   },
   "outputs": [],
   "source": [
    "class dsp_student(dsp_member):\n",
    "    role = \"DSP student\"\n",
    "    \n",
    "    def __init__(self, first, last, grade):\n",
    "        self.first = first\n",
    "        self.last = last\n",
    "        self.email = first.lower() + \".\" + last.lower() + \"@dsp.com\"\n",
    "        self.grade = grade\n",
    "        \n",
    "student_1 = dsp_student('Juliana', 'Carnaval', 'B+')\n",
    "print(student_1.email)\n",
    "print(student_1.grade)"
   ]
  },
  {
   "cell_type": "markdown",
   "metadata": {
    "slideshow": {
     "slide_type": "slide"
    }
   },
   "source": [
    "But this is not DRY code, remember that we've already typed most of this in our `dsp_member` class. So what we can do is let the `dsp_member` class handle our `first` and `last` argument and we'll just worry about `grade`. We can do this easily with the `super()` function. Things can get pretty complicated with `super()`, you can read more [here](https://realpython.com/python-super/#an-overview-of-pythons-super-function), but all you really need to know is that `super()` allows you to inherit attributes/methods from other classes."
   ]
  },
  {
   "cell_type": "code",
   "execution_count": null,
   "metadata": {
    "slideshow": {
     "slide_type": "fragment"
    }
   },
   "outputs": [],
   "source": [
    "class dsp_student(dsp_member):\n",
    "    role = \"DSP student\"\n",
    "    \n",
    "    def __init__(self, first, last, grade):\n",
    "        super().__init__(first, last)\n",
    "        self.grade = grade\n",
    "        \n",
    "student_1 = dsp_student('Juliana', 'Carnaval', 'B+')\n",
    "print(student_1.email)\n",
    "print(student_1.grade)"
   ]
  },
  {
   "cell_type": "markdown",
   "metadata": {
    "slideshow": {
     "slide_type": "slide"
    }
   },
   "source": [
    "Amazing! Hopefully you can start to see how powerful inheritance can be. Let's create another subclass called `dsp_instructor`, which has two new methods `add_course()` and `remove_course()`."
   ]
  },
  {
   "cell_type": "code",
   "execution_count": null,
   "metadata": {
    "slideshow": {
     "slide_type": "fragment"
    }
   },
   "outputs": [],
   "source": [
    "class dsp_instructor(dsp_member):\n",
    "    role = \"DSP instructor\"\n",
    "    \n",
    "    def __init__(self, first, last, courses=None):\n",
    "        super().__init__(first, last)\n",
    "        self.courses = ([] if courses is None else courses)\n",
    "        \n",
    "    def add_course(self, course):\n",
    "        self.courses.append(course)\n",
    "        \n",
    "    def remove_course(self, course):\n",
    "        self.courses.remove(course)"
   ]
  },
  {
   "cell_type": "code",
   "execution_count": null,
   "metadata": {
    "slideshow": {
     "slide_type": "slide"
    }
   },
   "outputs": [],
   "source": [
    "instructor_1 = dsp_instructor('Davi', 'Moreira', ['210', '350', '100'])\n",
    "print(instructor_1.full_name())\n",
    "print(instructor_1.courses)"
   ]
  },
  {
   "cell_type": "code",
   "execution_count": null,
   "metadata": {
    "slideshow": {
     "slide_type": "fragment"
    }
   },
   "outputs": [],
   "source": [
    "instructor_1.add_course('485')\n",
    "instructor_1.remove_course('100')\n",
    "instructor_1.courses"
   ]
  },
  {
   "cell_type": "markdown",
   "metadata": {
    "slideshow": {
     "slide_type": "slide"
    }
   },
   "source": [
    "### Getters/Setters/Deleters\n",
    "\n",
    "There's one more import topic to talk about with Python classes and that is getters/setters/deleters. The necessity for these actions is best illustrated by example. Here's a stripped down version of the `dsp_member` class from earlier:"
   ]
  },
  {
   "cell_type": "code",
   "execution_count": null,
   "metadata": {
    "slideshow": {
     "slide_type": "fragment"
    }
   },
   "outputs": [],
   "source": [
    "class dsp_member:\n",
    "    \n",
    "    def __init__(self, first, last):\n",
    "        self.first = first\n",
    "        self.last = last\n",
    "        self.email = first.lower() + \".\" + last.lower() + \"@dsp.com\"\n",
    "        \n",
    "    def full_name(self):\n",
    "        return f\"{self.first} {self.last}\""
   ]
  },
  {
   "cell_type": "code",
   "execution_count": null,
   "metadata": {
    "slideshow": {
     "slide_type": "slide"
    }
   },
   "outputs": [],
   "source": [
    "dsp_1 = dsp_member('David', 'Moreira')\n",
    "print(dsp_1.first)\n",
    "print(dsp_1.last)\n",
    "print(dsp_1.email)\n",
    "print(dsp_1.full_name())"
   ]
  },
  {
   "cell_type": "markdown",
   "metadata": {
    "slideshow": {
     "slide_type": "slide"
    }
   },
   "source": [
    "Imagine that I mis-spelled the name of this class instance and wanted to correct it. Watch what happens..."
   ]
  },
  {
   "cell_type": "code",
   "execution_count": null,
   "metadata": {
    "slideshow": {
     "slide_type": "fragment"
    }
   },
   "outputs": [],
   "source": [
    "dsp_1.first = 'Davi'\n",
    "print(dsp_1.first)\n",
    "print(dsp_1.last)\n",
    "print(dsp_1.email)\n",
    "print(dsp_1.full_name())"
   ]
  },
  {
   "cell_type": "markdown",
   "metadata": {
    "slideshow": {
     "slide_type": "slide"
    }
   },
   "source": [
    "Uh oh... the email didn't update with the new first name! We didn't have this problem with the `full_name()` method because it just calls the current `first` and `last` name. You might think that the best thing to do here is to create a method for `email()` like we have for `full_name()`. But this is bad coding for a variety of reasons, for example it means that users of your code will have to change every call to the `email` attribute to a call to the `email()` method. We'd call that a breaking change to our software and we want to avoid that where possible. What we can do instead, is define our `email` like a method, but keep it as an attribute using the `@property` decorator."
   ]
  },
  {
   "cell_type": "code",
   "execution_count": null,
   "metadata": {
    "slideshow": {
     "slide_type": "fragment"
    }
   },
   "outputs": [],
   "source": [
    "class dsp_member:\n",
    "    \n",
    "    def __init__(self, first, last):\n",
    "        self.first = first\n",
    "        self.last = last\n",
    "        \n",
    "    def full_name(self):\n",
    "        return f\"{self.first} {self.last}\"\n",
    "    \n",
    "    @property\n",
    "    def email(self):\n",
    "        return self.first.lower() + \".\" + self.last.lower() + \"@dsp.com\""
   ]
  },
  {
   "cell_type": "code",
   "execution_count": null,
   "metadata": {
    "slideshow": {
     "slide_type": "slide"
    }
   },
   "outputs": [],
   "source": [
    "dsp_1 = dsp_member('David', 'Moreira')\n",
    "dsp_1.first = 'Davi'\n",
    "print(dsp_1.first)\n",
    "print(dsp_1.last)\n",
    "print(dsp_1.email)\n",
    "print(dsp_1.full_name())"
   ]
  },
  {
   "cell_type": "markdown",
   "metadata": {
    "slideshow": {
     "slide_type": "slide"
    }
   },
   "source": [
    "We could do the same with the `full_name()` method if we wanted too..."
   ]
  },
  {
   "cell_type": "code",
   "execution_count": null,
   "metadata": {
    "slideshow": {
     "slide_type": "fragment"
    }
   },
   "outputs": [],
   "source": [
    "class dsp_member:\n",
    "    \n",
    "    def __init__(self, first, last):\n",
    "        self.first = first\n",
    "        self.last = last\n",
    "    \n",
    "    @property\n",
    "    def full_name(self):\n",
    "        return f\"{self.first} {self.last}\"\n",
    "    \n",
    "    @property\n",
    "    def email(self):\n",
    "        return self.first.lower() + \".\" + self.last.lower() + \"@dsp.com\""
   ]
  },
  {
   "cell_type": "code",
   "execution_count": null,
   "metadata": {
    "slideshow": {
     "slide_type": "fragment"
    }
   },
   "outputs": [],
   "source": [
    "dsp_1 = dsp_member('David', 'Moreira')\n",
    "dsp_1.full_name"
   ]
  },
  {
   "cell_type": "markdown",
   "metadata": {
    "slideshow": {
     "slide_type": "slide"
    }
   },
   "source": [
    "But what happens if we instead want to make a change to the full name now?"
   ]
  },
  {
   "cell_type": "code",
   "execution_count": null,
   "metadata": {
    "slideshow": {
     "slide_type": "fragment"
    },
    "tags": [
     "raises-exception"
    ]
   },
   "outputs": [],
   "source": [
    "dsp_1.full_name = 'Dave Moreira'"
   ]
  },
  {
   "cell_type": "markdown",
   "metadata": {
    "slideshow": {
     "slide_type": "slide"
    }
   },
   "source": [
    "We get an error... Our class instance doesn't know what to do with the value it was passed. Ideally, we'd like our class instance to use this full name information to update `self.first` and `self.last`. To handle this action, we need a `setter`, defined using the decorator `@<attribute>.setter`:"
   ]
  },
  {
   "cell_type": "code",
   "execution_count": null,
   "metadata": {
    "slideshow": {
     "slide_type": "fragment"
    }
   },
   "outputs": [],
   "source": [
    "class dsp_member:\n",
    "    \n",
    "    def __init__(self, first, last):\n",
    "        self.first = first\n",
    "        self.last = last\n",
    "    \n",
    "    @property\n",
    "    def full_name(self):\n",
    "        return f\"{self.first} {self.last}\"\n",
    "    \n",
    "    @full_name.setter\n",
    "    def full_name(self, name):\n",
    "        first, last = name.split(' ')\n",
    "        self.first = first\n",
    "        self.last = last\n",
    "    \n",
    "    @property\n",
    "    def email(self):\n",
    "        return self.first.lower() + \".\" + self.last.lower() + \"@dsp.com\""
   ]
  },
  {
   "cell_type": "code",
   "execution_count": null,
   "metadata": {
    "slideshow": {
     "slide_type": "slide"
    }
   },
   "outputs": [],
   "source": [
    "dsp_1 = dsp_member('David', 'Moreira')\n",
    "dsp_1.full_name = 'Dave Moreira'\n",
    "print(dsp_1.first)\n",
    "print(dsp_1.last)\n",
    "print(dsp_1.email)\n",
    "print(dsp_1.full_name)"
   ]
  },
  {
   "cell_type": "markdown",
   "metadata": {
    "slideshow": {
     "slide_type": "slide"
    }
   },
   "source": [
    "Almost there! We've talked about getting information and setting information, but what about deletting information? This is typically used to do some clean up and is defined with the `@<attribute>.deleter` decorator. I rarely use this method but I want you to see it:"
   ]
  },
  {
   "cell_type": "code",
   "execution_count": null,
   "metadata": {
    "slideshow": {
     "slide_type": "fragment"
    }
   },
   "outputs": [],
   "source": [
    "class dsp_member:\n",
    "    \n",
    "    def __init__(self, first, last):\n",
    "        self.first = first\n",
    "        self.last = last\n",
    "    \n",
    "    @property\n",
    "    def full_name(self):\n",
    "        return f\"{self.first} {self.last}\"\n",
    "    \n",
    "    @full_name.setter\n",
    "    def full_name(self, name):\n",
    "        first, last = name.split(' ')\n",
    "        self.first = first\n",
    "        self.last = last\n",
    "        \n",
    "    @full_name.deleter\n",
    "    def full_name(self):\n",
    "        print('Name deleted!')\n",
    "        self.first = None\n",
    "        self.last = None\n",
    "    \n",
    "    @property\n",
    "    def email(self):\n",
    "        return self.first.lower() + \".\" + self.last.lower() + \"@dsp.com\""
   ]
  },
  {
   "cell_type": "code",
   "execution_count": null,
   "metadata": {
    "slideshow": {
     "slide_type": "slide"
    }
   },
   "outputs": [],
   "source": [
    "dsp_1 = dsp_member('David', 'Moreira')\n",
    "delattr(dsp_1, \"full_name\")\n",
    "print(dsp_1.first)\n",
    "print(dsp_1.last)"
   ]
  },
  {
   "cell_type": "code",
   "execution_count": null,
   "metadata": {
    "slideshow": {
     "slide_type": "skip"
    }
   },
   "outputs": [],
   "source": [
    "!jupyter nbconvert _03-py-tests-classes.ipynb --to html --template classic --output 03-py-tests-classes.html"
   ]
  },
  {
   "cell_type": "markdown",
   "metadata": {
    "slideshow": {
     "slide_type": "slide"
    }
   },
   "source": [
    "# <center>Thank you!<a class=\"tocSkip\"></center>"
   ]
  }
 ],
 "metadata": {
  "anaconda-cloud": {},
  "celltoolbar": "Slideshow",
  "kernelspec": {
   "display_name": "Python 3 (ipykernel)",
   "language": "python",
   "name": "python3"
  },
  "language_info": {
   "codemirror_mode": {
    "name": "ipython",
    "version": 3
   },
   "file_extension": ".py",
   "mimetype": "text/x-python",
   "name": "python",
   "nbconvert_exporter": "python",
   "pygments_lexer": "ipython3",
   "version": "3.9.12"
  },
  "toc": {
   "base_numbering": 1,
   "nav_menu": {},
   "number_sections": false,
   "sideBar": false,
   "skip_h1_title": true,
   "title_cell": "Table of Contents",
   "title_sidebar": "Contents",
   "toc_cell": true,
   "toc_position": {
    "height": "46.8142px",
    "left": "38.9931px",
    "top": "765.113px",
    "width": "158.429px"
   },
   "toc_section_display": false,
   "toc_window_display": true
  }
 },
 "nbformat": 4,
 "nbformat_minor": 4
}
