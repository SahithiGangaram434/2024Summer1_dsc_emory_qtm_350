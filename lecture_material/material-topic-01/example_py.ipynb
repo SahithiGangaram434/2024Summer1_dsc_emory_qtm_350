{
  "cells": [
    {
      "cell_type": "raw",
      "metadata": {},
      "source": [
        "---\n",
        "title: \"My Quarto Document\"\n",
        "format: html\n",
        "---"
      ],
      "id": "c30adfd5"
    },
    {
      "cell_type": "code",
      "metadata": {},
      "source": [
        "# Your Python code here\n",
        "print(\"Hello, Quarto!\")"
      ],
      "id": "1a06cf03",
      "execution_count": null,
      "outputs": []
    }
  ],
  "metadata": {
    "kernelspec": {
      "display_name": "Python 3",
      "language": "python",
      "name": "python3"
    }
  },
  "nbformat": 4,
  "nbformat_minor": 5
}