{
 "cells": [
  {
   "cell_type": "markdown",
   "metadata": {},
   "source": [
    "# <center>Python Loops & Functions - Practice Solutions <a class=\"tocSkip\"></center>\n",
    "# <center>QTM 350: Data Science Computing <a class=\"tocSkip\"></center>    \n",
    "# <center>Davi Moreira <a class=\"tocSkip\"></center>"
   ]
  },
  {
   "cell_type": "markdown",
   "metadata": {},
   "source": [
    "## Introduction <a class=\"tocSkip\">\n",
    "<hr>\n",
    "\n",
    "<center>\n",
    "<div>\n",
    "<img src=\"https://raw.githubusercontent.com/davi-moreira/2024S_dsc_emory_qtm_350/main/lecture_material/material-topic-03/img/py4ds.png\" width=\"200\"/>\n",
    "</div>\n",
    "</center>\n",
    "\n",
    "\n",
    "This topic material is based on the [Python Programming for Data Science](https://www.tomasbeuzen.com/python-programming-for-data-science/README.html) book and adapted for our purposes in the course."
   ]
  },
  {
   "cell_type": "markdown",
   "metadata": {},
   "source": [
    "## Exercises"
   ]
  },
  {
   "cell_type": "markdown",
   "metadata": {},
   "source": [
    "### Exercise"
   ]
  },
  {
   "cell_type": "markdown",
   "metadata": {},
   "source": [
    "Create a function `website()` that grabs the website domain from a url string. For example, if your function is passed `\"www.google.com\"`, it should return `\"google\"`."
   ]
  },
  {
   "cell_type": "code",
   "execution_count": 22,
   "metadata": {},
   "outputs": [
    {
     "data": {
      "text/plain": [
       "'google'"
      ]
     },
     "execution_count": 22,
     "metadata": {},
     "output_type": "execute_result"
    }
   ],
   "source": [
    "def website(url):\n",
    "    return url.split(\".\")[1]\n",
    "website(\"www.google.com\")"
   ]
  },
  {
   "cell_type": "markdown",
   "metadata": {},
   "source": [
    "### Exercise"
   ]
  },
  {
   "cell_type": "markdown",
   "metadata": {},
   "source": [
    "Create a function `divisible(a, b)` that accepts two integers (`a` and `b`) and returns `True` if `a` is divisble by `b` without a remainder. For example, `divisible(10, 3)` should return `False`, while `divisible(6, 3)` should return `True`."
   ]
  },
  {
   "cell_type": "code",
   "execution_count": 23,
   "metadata": {},
   "outputs": [
    {
     "name": "stdout",
     "output_type": "stream",
     "text": [
      "False\n",
      "True\n"
     ]
    }
   ],
   "source": [
    "def divisible(a, b):\n",
    "    return True if a % b == 0 else False\n",
    "print(divisible(10, 3))\n",
    "print(divisible(6, 3))"
   ]
  },
  {
   "cell_type": "markdown",
   "metadata": {},
   "source": [
    "### Exercise"
   ]
  },
  {
   "cell_type": "markdown",
   "metadata": {},
   "source": [
    "Use list comprehension to square every number in the following list of numbers. "
   ]
  },
  {
   "cell_type": "code",
   "execution_count": 24,
   "metadata": {},
   "outputs": [
    {
     "data": {
      "text/plain": [
       "[1, 4, 9, 16, 25, 36, 49, 64, 81]"
      ]
     },
     "execution_count": 24,
     "metadata": {},
     "output_type": "execute_result"
    }
   ],
   "source": [
    "l = [1, 2, 3, 4, 5, 6, 7, 8, 9]\n",
    "[_ ** 2 for _ in l]"
   ]
  },
  {
   "cell_type": "markdown",
   "metadata": {},
   "source": [
    "### Exercise"
   ]
  },
  {
   "cell_type": "markdown",
   "metadata": {},
   "source": [
    "For the following list of names, write a list comprehension that creates a list of *only* words that start with a capital letter (hint: `str.isupper()`)."
   ]
  },
  {
   "cell_type": "code",
   "execution_count": 25,
   "metadata": {},
   "outputs": [
    {
     "data": {
      "text/plain": [
       "['Steve Irwin', 'Australia', 'Sydney']"
      ]
     },
     "execution_count": 25,
     "metadata": {},
     "output_type": "execute_result"
    }
   ],
   "source": [
    "names = ['Steve Irwin', 'koala', 'kangaroo', 'Australia', 'Sydney', 'desert']\n",
    "\n",
    "[_ for _ in names if _[0].isupper()]"
   ]
  },
  {
   "cell_type": "markdown",
   "metadata": {},
   "source": [
    "### Exercise"
   ]
  },
  {
   "cell_type": "markdown",
   "metadata": {},
   "source": [
    "For the following list of `keys` and `vals` use dictionary comprehension to create a dictionary of the form `{'key-0': 0, 'key-1': 1, etc}` (hint: `zip()` can help you combine two lists into on object to be used for comprehension/looping)."
   ]
  },
  {
   "cell_type": "code",
   "execution_count": 26,
   "metadata": {},
   "outputs": [
    {
     "data": {
      "text/plain": [
       "{'key-0': 0,\n",
       " 'key-1': 1,\n",
       " 'key-2': 2,\n",
       " 'key-3': 3,\n",
       " 'key-4': 4,\n",
       " 'key-5': 5,\n",
       " 'key-6': 6,\n",
       " 'key-7': 7,\n",
       " 'key-8': 8,\n",
       " 'key-9': 9}"
      ]
     },
     "execution_count": 26,
     "metadata": {},
     "output_type": "execute_result"
    }
   ],
   "source": [
    "keys = [f\"key-{k}\" for k in range(10)]\n",
    "vals = range(10)\n",
    "\n",
    "{k:v for k, v in zip(keys, vals)}"
   ]
  },
  {
   "cell_type": "markdown",
   "metadata": {},
   "source": [
    "### Exercise"
   ]
  },
  {
   "cell_type": "markdown",
   "metadata": {},
   "source": [
    "This question is a little harder. Create a generator function called `listgen(n)` that yields numbers from 0 to n, in batches of lists of maximum 10 numbers at a time. For example, your function should behave as follows:\n",
    "\n",
    "```python\n",
    "g = listgen(100)\n",
    "next(g)\n",
    "[0, 1, 2, 3, 4, 5, 6, 7, 8, 9]\n",
    "next(g)\n",
    "[10, 11, 12, 13, 14, 15, 16, 17, 18, 19]\n",
    "next(g)\n",
    "[20, 21, 22, 23, 24, 25, 26, 27, 28, 29]\n",
    "etc.\n",
    "\n",
    "g = listgen(5)\n",
    "next(g)\n",
    "```"
   ]
  },
  {
   "cell_type": "code",
   "execution_count": 27,
   "metadata": {},
   "outputs": [],
   "source": [
    "def listgen(n):\n",
    "    counter = 0\n",
    "    numbers = list(range(n))\n",
    "    while counter <= n // 10:\n",
    "        yield numbers[10 * counter:10*(counter+1)]\n",
    "        counter += 1"
   ]
  },
  {
   "cell_type": "code",
   "execution_count": 28,
   "metadata": {},
   "outputs": [
    {
     "name": "stdout",
     "output_type": "stream",
     "text": [
      "[0, 1, 2, 3, 4, 5, 6, 7, 8, 9]\n",
      "[10, 11, 12, 13, 14, 15, 16, 17, 18, 19]\n",
      "[20, 21, 22, 23, 24, 25, 26, 27, 28, 29]\n",
      "[30, 31, 32, 33, 34, 35, 36, 37, 38, 39]\n",
      "[40, 41, 42, 43, 44, 45, 46, 47, 48, 49]\n",
      "[50, 51, 52, 53, 54, 55, 56, 57, 58, 59]\n",
      "[60, 61, 62, 63, 64, 65, 66, 67, 68, 69]\n",
      "[70, 71, 72, 73, 74, 75, 76, 77, 78, 79]\n",
      "[80, 81, 82, 83, 84, 85, 86, 87, 88, 89]\n",
      "[90, 91, 92, 93, 94, 95, 96, 97, 98, 99]\n"
     ]
    }
   ],
   "source": [
    "g = listgen(100)\n",
    "print(next(g))\n",
    "print(next(g))\n",
    "print(next(g))\n",
    "print(next(g))\n",
    "print(next(g))\n",
    "print(next(g))\n",
    "print(next(g))\n",
    "print(next(g))\n",
    "print(next(g))\n",
    "print(next(g))"
   ]
  },
  {
   "cell_type": "markdown",
   "metadata": {},
   "source": [
    "### Exercise"
   ]
  },
  {
   "cell_type": "markdown",
   "metadata": {},
   "source": [
    "Write a `try`/`except` to catch the error generated from the following code and print \"I caught you!\". Make sure you catch the specific error being caused, this is typically better practice than just catching all errors!"
   ]
  },
  {
   "cell_type": "code",
   "execution_count": 29,
   "metadata": {
    "tags": [
     "raises-exception"
    ]
   },
   "outputs": [
    {
     "name": "stdout",
     "output_type": "stream",
     "text": [
      "I caught you!\n"
     ]
    }
   ],
   "source": [
    "try:\n",
    "    5 / 0\n",
    "except ZeroDivisionError:\n",
    "    print(\"I caught you!\")"
   ]
  },
  {
   "cell_type": "markdown",
   "metadata": {},
   "source": [
    "### Exercise"
   ]
  },
  {
   "cell_type": "markdown",
   "metadata": {},
   "source": [
    "Create a function `lucky_sum()` that takes all the integers a user enters and returns their sum. *However*, if one of the values is 13 then it does not count towards the sum, nor do any values to its right.\n",
    "\n",
    "For example, your function should behave as follows:\n",
    "\n",
    "```python\n",
    "lucky_sum(1, 2, 3, 4)\n",
    "10\n",
    "\n",
    "lucky_sum(1, 13, 3, 4)\n",
    "1\n",
    "\n",
    "lucky_sum(13)\n",
    "0\n",
    "```\n",
    "\n",
    "*This example is inspired by the related [codingbat challenge](https://codingbat.com/prob/p130788).*"
   ]
  },
  {
   "cell_type": "code",
   "execution_count": 30,
   "metadata": {},
   "outputs": [
    {
     "name": "stdout",
     "output_type": "stream",
     "text": [
      "10\n",
      "1\n",
      "0\n"
     ]
    }
   ],
   "source": [
    "def lucky_sum(*args):\n",
    "    if 13 in args:\n",
    "        return sum(args[:args.index(13)])\n",
    "    return sum(args)\n",
    "\n",
    "print(lucky_sum(1, 2, 3, 4))\n",
    "\n",
    "print(lucky_sum(1, 13, 3, 4))\n",
    "\n",
    "print(lucky_sum(13))"
   ]
  },
  {
   "cell_type": "code",
   "execution_count": 31,
   "metadata": {},
   "outputs": [
    {
     "name": "stdout",
     "output_type": "stream",
     "text": [
      "[NbConvertApp] Converting notebook _02-py-loops-functions-practice-solutions.ipynb to html\n",
      "[NbConvertApp] Writing 297152 bytes to 02-py-loops-functions-practice-solutions.html\n"
     ]
    }
   ],
   "source": [
    "!jupyter nbconvert _02-py-loops-functions-practice-solutions.ipynb --to html --template classic --output 02-py-loops-functions-practice-solutions.html"
   ]
  },
  {
   "cell_type": "markdown",
   "metadata": {},
   "source": [
    "# <center>Have fun!<a class=\"tocSkip\"></center>"
   ]
  }
 ],
 "metadata": {
  "kernelspec": {
   "display_name": "Python 3 (ipykernel)",
   "language": "python",
   "name": "python3"
  },
  "language_info": {
   "codemirror_mode": {
    "name": "ipython",
    "version": 3
   },
   "file_extension": ".py",
   "mimetype": "text/x-python",
   "name": "python",
   "nbconvert_exporter": "python",
   "pygments_lexer": "ipython3",
   "version": "3.12.2"
  },
  "toc": {
   "base_numbering": 1,
   "nav_menu": {},
   "number_sections": true,
   "sideBar": true,
   "skip_h1_title": false,
   "title_cell": "Table of Contents",
   "title_sidebar": "Contents",
   "toc_cell": false,
   "toc_position": {},
   "toc_section_display": true,
   "toc_window_display": false
  },
  "varInspector": {
   "cols": {
    "lenName": 16,
    "lenType": 16,
    "lenVar": 40
   },
   "kernels_config": {
    "python": {
     "delete_cmd_postfix": "",
     "delete_cmd_prefix": "del ",
     "library": "var_list.py",
     "varRefreshCmd": "print(var_dic_list())"
    },
    "r": {
     "delete_cmd_postfix": ") ",
     "delete_cmd_prefix": "rm(",
     "library": "var_list.r",
     "varRefreshCmd": "cat(var_dic_list()) "
    }
   },
   "types_to_exclude": [
    "module",
    "function",
    "builtin_function_or_method",
    "instance",
    "_Feature"
   ],
   "window_display": false
  }
 },
 "nbformat": 4,
 "nbformat_minor": 4
}
