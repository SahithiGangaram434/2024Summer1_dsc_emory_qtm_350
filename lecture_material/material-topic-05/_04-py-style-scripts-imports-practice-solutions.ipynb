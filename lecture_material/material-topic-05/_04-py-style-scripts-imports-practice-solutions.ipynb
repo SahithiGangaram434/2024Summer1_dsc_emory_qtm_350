{
 "cells": [
  {
   "cell_type": "markdown",
   "metadata": {},
   "source": [
    "# <center>Python - Style Guides, Scripts, Imports - Practice Solutions<a class=\"tocSkip\"></center>\n",
    "# <center>QTM 350: Data Science Computing <a class=\"tocSkip\"></center>    \n",
    "# <center>Davi Moreira <a class=\"tocSkip\"></center>"
   ]
  },
  {
   "cell_type": "markdown",
   "metadata": {},
   "source": [
    "## Introduction <a class=\"tocSkip\">\n",
    "<hr>\n",
    "\n",
    "<center>\n",
    "<div>\n",
    "<img src=\"https://raw.githubusercontent.com/davi-moreira/2024S_dsc_emory_qtm_350/main/lecture_material/material-topic-03/img/py4ds.png\" width=\"200\"/>\n",
    "</div>\n",
    "</center>\n",
    "\n",
    "\n",
    "This topic material is based on the [Python Programming for Data Science](https://www.tomasbeuzen.com/python-programming-for-data-science/README.html) book and adapted for our purposes in the course."
   ]
  },
  {
   "cell_type": "markdown",
   "metadata": {},
   "source": [
    "## Exercise"
   ]
  },
  {
   "cell_type": "markdown",
   "metadata": {},
   "source": [
    "Use `flake8` to list all the syntatic and stylistic problems with the following code. You could copy the code into a `.py` file and run `flake8` from the command line, or you could try the [JupyterLab flake8 extension](https://github.com/mlshapiro/jupyterlab-flake8)."
   ]
  },
  {
   "cell_type": "code",
   "execution_count": 18,
   "metadata": {},
   "outputs": [],
   "source": [
    "very_long_variable_name = {'field': 1,\n",
    "                        'is_debug': True}\n",
    "if very_long_variable_name is not None and very_long_variable_name[\"field\"] > 0 or very_long_variable_name['is_debug']:\n",
    " z = 'hello '+'world'\n",
    "else:\n",
    " f = rf'hello {world}'\n",
    "if (True): y = 'hello ''world'#FIXME: https://github.com/python/black/issues/26\n",
    "class Foo  (     object  ):\n",
    "  def f    (self   ):\n",
    "    return       37*-2\n",
    "  def g(self, x,y=42):\n",
    "      return y\n",
    "regular_formatting = [\n",
    "    0,  1,  2,\n",
    "    3,  4,  5\n",
    "]\n",
    "def CAPITALIZE(mystring):\n",
    "    return mystring.upper()"
   ]
  },
  {
   "cell_type": "code",
   "execution_count": 19,
   "metadata": {},
   "outputs": [
    {
     "name": "stdout",
     "output_type": "stream",
     "text": [
      "\u001b[1mdata/bad_style.py\u001b[m\u001b[36m:\u001b[m1\u001b[36m:\u001b[m6\u001b[36m:\u001b[m \u001b[1m\u001b[31mE201\u001b[m whitespace after '{'\r\n",
      "\u001b[1mdata/bad_style.py\u001b[m\u001b[36m:\u001b[m1\u001b[36m:\u001b[m11\u001b[36m:\u001b[m \u001b[1m\u001b[31mE231\u001b[m missing whitespace after ':'\r\n",
      "\u001b[1mdata/bad_style.py\u001b[m\u001b[36m:\u001b[m1\u001b[36m:\u001b[m14\u001b[36m:\u001b[m \u001b[1m\u001b[31mE231\u001b[m missing whitespace after ','\r\n",
      "\u001b[1mdata/bad_style.py\u001b[m\u001b[36m:\u001b[m1\u001b[36m:\u001b[m18\u001b[36m:\u001b[m \u001b[1m\u001b[31mE231\u001b[m missing whitespace after ':'\r\n",
      "\u001b[1mdata/bad_style.py\u001b[m\u001b[36m:\u001b[m2\u001b[36m:\u001b[m1\u001b[36m:\u001b[m \u001b[1m\u001b[31mE128\u001b[m continuation line under-indented for visual indent\r\n",
      "\u001b[1mdata/bad_style.py\u001b[m\u001b[36m:\u001b[m2\u001b[36m:\u001b[m4\u001b[36m:\u001b[m \u001b[1m\u001b[31mE231\u001b[m missing whitespace after ':'\r\n",
      "\u001b[1mdata/bad_style.py\u001b[m\u001b[36m:\u001b[m4\u001b[36m:\u001b[m25\u001b[36m:\u001b[m \u001b[1m\u001b[31mE128\u001b[m continuation line under-indented for visual indent\r\n",
      "\u001b[1mdata/bad_style.py\u001b[m\u001b[36m:\u001b[m5\u001b[36m:\u001b[m5\u001b[36m:\u001b[m \u001b[1m\u001b[31mE225\u001b[m missing whitespace around operator\r\n",
      "\u001b[1mdata/bad_style.py\u001b[m\u001b[36m:\u001b[m7\u001b[36m:\u001b[m80\u001b[36m:\u001b[m \u001b[1m\u001b[31mE501\u001b[m line too long (119 > 79 characters)\r\n",
      "\u001b[1mdata/bad_style.py\u001b[m\u001b[36m:\u001b[m8\u001b[36m:\u001b[m2\u001b[36m:\u001b[m \u001b[1m\u001b[31mE111\u001b[m indentation is not a multiple of 4\r\n",
      "\u001b[1mdata/bad_style.py\u001b[m\u001b[36m:\u001b[m10\u001b[36m:\u001b[m2\u001b[36m:\u001b[m \u001b[1m\u001b[31mE111\u001b[m indentation is not a multiple of 4\r\n",
      "\u001b[1mdata/bad_style.py\u001b[m\u001b[36m:\u001b[m11\u001b[36m:\u001b[m2\u001b[36m:\u001b[m \u001b[1m\u001b[31mE111\u001b[m indentation is not a multiple of 4\r\n",
      "\u001b[1mdata/bad_style.py\u001b[m\u001b[36m:\u001b[m12\u001b[36m:\u001b[m2\u001b[36m:\u001b[m \u001b[1m\u001b[31mE111\u001b[m indentation is not a multiple of 4\r\n",
      "\u001b[1mdata/bad_style.py\u001b[m\u001b[36m:\u001b[m13\u001b[36m:\u001b[m10\u001b[36m:\u001b[m \u001b[1m\u001b[31mE701\u001b[m multiple statements on one line (colon)\r\n",
      "\u001b[1mdata/bad_style.py\u001b[m\u001b[36m:\u001b[m13\u001b[36m:\u001b[m31\u001b[36m:\u001b[m \u001b[1m\u001b[31mE261\u001b[m at least two spaces before inline comment\r\n",
      "\u001b[1mdata/bad_style.py\u001b[m\u001b[36m:\u001b[m13\u001b[36m:\u001b[m31\u001b[36m:\u001b[m \u001b[1m\u001b[31mE262\u001b[m inline comment should start with '# '\r\n",
      "\u001b[1mdata/bad_style.py\u001b[m\u001b[36m:\u001b[m14\u001b[36m:\u001b[m1\u001b[36m:\u001b[m \u001b[1m\u001b[31mE302\u001b[m expected 2 blank lines, found 0\r\n",
      "\u001b[1mdata/bad_style.py\u001b[m\u001b[36m:\u001b[m14\u001b[36m:\u001b[m13\u001b[36m:\u001b[m \u001b[1m\u001b[31mE201\u001b[m whitespace after '('\r\n",
      "\u001b[1mdata/bad_style.py\u001b[m\u001b[36m:\u001b[m14\u001b[36m:\u001b[m25\u001b[36m:\u001b[m \u001b[1m\u001b[31mE202\u001b[m whitespace before ')'\r\n",
      "\u001b[1mdata/bad_style.py\u001b[m\u001b[36m:\u001b[m15\u001b[36m:\u001b[m3\u001b[36m:\u001b[m \u001b[1m\u001b[31mE111\u001b[m indentation is not a multiple of 4\r\n",
      "\u001b[1mdata/bad_style.py\u001b[m\u001b[36m:\u001b[m15\u001b[36m:\u001b[m8\u001b[36m:\u001b[m \u001b[1m\u001b[31mE211\u001b[m whitespace before '('\r\n",
      "\u001b[1mdata/bad_style.py\u001b[m\u001b[36m:\u001b[m15\u001b[36m:\u001b[m19\u001b[36m:\u001b[m \u001b[1m\u001b[31mE202\u001b[m whitespace before ')'\r\n",
      "\u001b[1mdata/bad_style.py\u001b[m\u001b[36m:\u001b[m16\u001b[36m:\u001b[m11\u001b[36m:\u001b[m \u001b[1m\u001b[31mE271\u001b[m multiple spaces after keyword\r\n",
      "\u001b[1mdata/bad_style.py\u001b[m\u001b[36m:\u001b[m17\u001b[36m:\u001b[m3\u001b[36m:\u001b[m \u001b[1m\u001b[31mE301\u001b[m expected 1 blank line, found 0\r\n",
      "\u001b[1mdata/bad_style.py\u001b[m\u001b[36m:\u001b[m17\u001b[36m:\u001b[m3\u001b[36m:\u001b[m \u001b[1m\u001b[31mE111\u001b[m indentation is not a multiple of 4\r\n",
      "\u001b[1mdata/bad_style.py\u001b[m\u001b[36m:\u001b[m17\u001b[36m:\u001b[m16\u001b[36m:\u001b[m \u001b[1m\u001b[31mE231\u001b[m missing whitespace after ','\r\n",
      "\u001b[1mdata/bad_style.py\u001b[m\u001b[36m:\u001b[m18\u001b[36m:\u001b[m7\u001b[36m:\u001b[m \u001b[1m\u001b[31mE111\u001b[m indentation is not a multiple of 4\r\n",
      "\u001b[1mdata/bad_style.py\u001b[m\u001b[36m:\u001b[m20\u001b[36m:\u001b[m1\u001b[36m:\u001b[m \u001b[1m\u001b[31mE305\u001b[m expected 2 blank lines after class or function definition, found 0\r\n",
      "\u001b[1mdata/bad_style.py\u001b[m\u001b[36m:\u001b[m28\u001b[36m:\u001b[m2\u001b[36m:\u001b[m \u001b[1m\u001b[31mW292\u001b[m no newline at end of file\r\n"
     ]
    }
   ],
   "source": [
    "!flake8 data/bad_style.py"
   ]
  },
  {
   "cell_type": "markdown",
   "metadata": {},
   "source": [
    "## Exercise"
   ]
  },
  {
   "cell_type": "markdown",
   "metadata": {},
   "source": [
    "Use `black` to autoformat the following code. You could copy the code into a `.py` file and run `black` from the command line, or you could try the [JupyterLab black extension](https://jupyterlab-code-formatter.readthedocs.io/en/latest/index.html)."
   ]
  },
  {
   "cell_type": "code",
   "execution_count": 20,
   "metadata": {},
   "outputs": [],
   "source": [
    "very_long_variable_name = {'field': 1,\n",
    "                        'is_debug': True}\n",
    "if very_long_variable_name is not None and very_long_variable_name[\"field\"] > 0 or very_long_variable_name['is_debug']:\n",
    " z = 'hello '+'world'\n",
    "else:\n",
    " f = rf'hello {world}'\n",
    "if (True): y = 'hello ''world'#FIXME: https://github.com/python/black/issues/26\n",
    "class Foo  (     object  ):\n",
    "  def f    (self   ):\n",
    "    return       37*-2\n",
    "  def g(self, x,y=42):\n",
    "      return y\n",
    "regular_formatting = [\n",
    "    0,  1,  2,\n",
    "    3,  4,  5\n",
    "]\n",
    "def CAPITALIZE(mystring):\n",
    "    return mystring.upper()"
   ]
  },
  {
   "cell_type": "code",
   "execution_count": 21,
   "metadata": {},
   "outputs": [],
   "source": [
    "# I used the Jupyter Lab code formatter extension for this.\n",
    "\n",
    "very_long_variable_name = {\"field\": 1, \"is_debug\": True}\n",
    "if (\n",
    "    very_long_variable_name is not None\n",
    "    and very_long_variable_name[\"field\"] > 0\n",
    "    or very_long_variable_name[\"is_debug\"]\n",
    "):\n",
    "    z = \"hello \" + \"world\"\n",
    "else:\n",
    "    f = rf\"hello {world}\"\n",
    "if True:\n",
    "    y = \"hello \" \"world\"  # FIXME: https://github.com/python/black/issues/26\n",
    "\n",
    "\n",
    "class Foo(object):\n",
    "    def f(self):\n",
    "        return 37 * -2\n",
    "\n",
    "    def g(self, x, y=42):\n",
    "        return y\n",
    "\n",
    "\n",
    "regular_formatting = [0, 1, 2, 3, 4, 5]\n",
    "\n",
    "\n",
    "def CAPITALIZE(mystring):\n",
    "    return mystring.upper()"
   ]
  },
  {
   "cell_type": "markdown",
   "metadata": {},
   "source": [
    "## Exercise"
   ]
  },
  {
   "cell_type": "markdown",
   "metadata": {},
   "source": [
    "In the last set of practice exercises we created the `Circle` class:\n",
    "\n",
    "```python\n",
    "class Circle:\n",
    "    \"\"\"A circle with a radius r.\"\"\"\n",
    "\n",
    "    def __init__(self, radius):\n",
    "        self.radius = radius\n",
    "\n",
    "    def area(self):\n",
    "        \"\"\"Calculate the area of the circle.\"\"\"\n",
    "        return math.pi * self.radius ** 2\n",
    "\n",
    "    def circumference(self):\n",
    "        \"\"\"Calculate the circumference of the circle.\"\"\"\n",
    "        return 2.0 * math.pi * self.radius\n",
    "\n",
    "    def __str__(self):\n",
    "        return f\"A Circle with radius {self.radius}\"\n",
    "```\n",
    "\n",
    "Save this code into a new Python `.py` file and then import it here and answer the following:\n",
    "\n",
    "1. What is the area of a circle with radius 10?\n",
    "2. What is the circumference of a circle with radius 10?"
   ]
  },
  {
   "cell_type": "code",
   "execution_count": 22,
   "metadata": {},
   "outputs": [
    {
     "name": "stdout",
     "output_type": "stream",
     "text": [
      "The code has been saved to data/circle.py\n"
     ]
    }
   ],
   "source": [
    "code = \"\"\"\n",
    "import math\n",
    "\n",
    "class Circle:\n",
    "    \\\"\\\"\\\"A circle with a radius r.\\\"\\\"\\\"\n",
    "\n",
    "    def __init__(self, radius):\n",
    "        self.radius = radius\n",
    "\n",
    "    def area(self):\n",
    "        \\\"\\\"\\\"Calculate the area of the circle.\\\"\\\"\\\"\n",
    "        return math.pi * self.radius ** 2\n",
    "\n",
    "    def circumference(self):\n",
    "        \\\"\\\"\\\"Calculate the circumference of the circle.\\\"\\\"\\\"\n",
    "        return 2.0 * math.pi * self.radius\n",
    "\n",
    "    def __str__(self):\n",
    "        return f\\\"A Circle with radius {self.radius}\\\"\n",
    "\"\"\"\n",
    "\n",
    "file_path = 'data/circle.py'\n",
    "\n",
    "with open(file_path, 'w') as file:\n",
    "    file.write(code)\n",
    "\n",
    "print(f\"The code has been saved to {file_path}\")\n"
   ]
  },
  {
   "cell_type": "code",
   "execution_count": 23,
   "metadata": {},
   "outputs": [
    {
     "name": "stdout",
     "output_type": "stream",
     "text": [
      "The circle has area = 314.16\n",
      "The circle has circumference = 62.83\n"
     ]
    }
   ],
   "source": [
    "import sys\n",
    "sys.path.append('data/')\n",
    "from circle import Circle\n",
    "\n",
    "c = Circle(10)\n",
    "print(f\"The circle has area = {c.area():.2f}\")\n",
    "print(f\"The circle has circumference = {c.circumference():.2f}\")"
   ]
  },
  {
   "cell_type": "markdown",
   "metadata": {},
   "source": [
    "## Exercise"
   ]
  },
  {
   "cell_type": "markdown",
   "metadata": {},
   "source": [
    "I recently decided to simulate the possible attendance at a party I was throwing using Python. The idea is that for every guest you invite, you assign them a probability of actually attending your party. For example:\n",
    "\n",
    "\n",
    "| Guest Name | Probability of Attending |\n",
    "|------------|--------------------------|\n",
    "| Davi       | 1                        |\n",
    "| Juliana    | 0.75                     |\n",
    "| Tiffany    | 0.5                      |\n",
    "| Joel       | 0.75                     |\n",
    "| Alexi      | 0.5                      |\n",
    "| Joel       | 1                        |\n",
    "| Mike       | 0.5                      |\n",
    "| Gabriel    | 0.75                     |\n",
    "\n",
    "In this exercise I want you to create a function that models each guest's attendance as a [Bernoulli random variable](https://en.wikipedia.org/wiki/Bernoulli_distribution). You can run a Bernoulli trial using the `numpy` library function `random.binomial(n=1, ...)` (here are the [docs](https://numpy.org/doc/stable/reference/random/generated/numpy.random.binomial.html)). You should import this function and run a single simulation on the list above (note that results may vary as we won't fix the random seed here).\n",
    "\n",
    "I've given you the list of probabilities to get you started. Your code should output the total number of attendees after running your simulation.\n",
    "\n",
    "*This question is based on a [random website post by Tomas Beuzen](https://www.tomasbeuzen.com/post/party-planning-probability/).*"
   ]
  },
  {
   "cell_type": "code",
   "execution_count": 25,
   "metadata": {},
   "outputs": [
    {
     "name": "stdout",
     "output_type": "stream",
     "text": [
      "6 guests attended the party in this simulation!\n"
     ]
    }
   ],
   "source": [
    "probabilities = [1, 0.75, 0.5, 0.75, 0.5, 1, 0.5, 0.75]\n",
    "\n",
    "import numpy as np\n",
    "\n",
    "attendance_simulation = [np.random.binomial(n=1, p=p) for p in probabilities]\n",
    "print(f\"{sum(attendance_simulation)} guests attended the party in this simulation!\")"
   ]
  },
  {
   "cell_type": "markdown",
   "metadata": {},
   "source": [
    "## Exercise"
   ]
  },
  {
   "cell_type": "markdown",
   "metadata": {},
   "source": [
    "So after completing Exercise 4, you have a way of running a single simulation given a list of probabilities. Now I want you to write a function called `simulate_party(probabilities, n)` that runs `n` simulations for a list of `probabilities` and returns a list of the total number of attendees for each simulation.\n",
    "\n",
    "Then, calculate the average guest attendance after running 100 simulations (round up to the nearest integer - hint: `math.ceil()`)."
   ]
  },
  {
   "cell_type": "code",
   "execution_count": 26,
   "metadata": {},
   "outputs": [
    {
     "name": "stdout",
     "output_type": "stream",
     "text": [
      "Avg. number of guests across all simulations: 6\n"
     ]
    }
   ],
   "source": [
    "import math\n",
    "\n",
    "\n",
    "def simulate_party(probabilities, n):\n",
    "    \"Simulate attendance at a party from a list of attendance probabilities.\"\n",
    "\n",
    "    attendance = []\n",
    "    for i in range(n):\n",
    "        attendance.append(sum([np.random.binomial(n=1, p=p) for p in probabilities]))\n",
    "    return attendance\n",
    "\n",
    "\n",
    "simulations = simulate_party(probabilities, 100)\n",
    "\n",
    "print(\n",
    "    f\"Avg. number of guests across all simulations: {math.ceil(sum(simulations) / len(simulations))}\"\n",
    ")"
   ]
  },
  {
   "cell_type": "markdown",
   "metadata": {},
   "source": [
    "Once you have a working function, uncomment the code below to plot the results of your function on a much longer guest list!"
   ]
  },
  {
   "cell_type": "code",
   "execution_count": 28,
   "metadata": {},
   "outputs": [
    {
     "data": {
      "image/png": "[encoded data removed]",
      "text/plain": [
       "<Figure size 800x600 with 1 Axes>"
      ]
     },
     "metadata": {},
     "output_type": "display_data"
    }
   ],
   "source": [
    "# Use this code to plot your function on a bigger guest list!\n",
    "import numpy as np\n",
    "import matplotlib.pyplot as plt\n",
    "plt.style.use('ggplot')  # These lines are to do with plot formatting. We'll talk about them later.\n",
    "plt.rcParams.update({'font.size': 16, 'axes.labelweight': 'bold', 'figure.figsize': (8, 6)})\n",
    "\n",
    "number_of_guests=100\n",
    "probabilities = np.random.choice([0.2, 0.4, 0.6, 0.8, 1],\n",
    "                                 size=number_of_guests,\n",
    "                                 p=[0.1, 0.2, 0.2, 0.3, 0.2])\n",
    "\n",
    "attendance = simulate_party(probabilities, n=1000)\n",
    "plt.hist(attendance, bins=20)\n",
    "plt.xlabel(\"Avg. number of attendees\")\n",
    "plt.ylabel(\"Number of simulations\");"
   ]
  },
  {
   "cell_type": "code",
   "execution_count": 29,
   "metadata": {},
   "outputs": [
    {
     "name": "stdout",
     "output_type": "stream",
     "text": [
      "[NbConvertApp] Converting notebook _04-py-style-scripts-imports-practice-solutions.ipynb to html\n",
      "[NbConvertApp] Writing 348934 bytes to 04-py-style-scripts-imports-practice-solutions.html\n"
     ]
    }
   ],
   "source": [
    "!jupyter nbconvert _04-py-style-scripts-imports-practice-solutions.ipynb --to html --template classic --output 04-py-style-scripts-imports-practice-solutions.html"
   ]
  },
  {
   "cell_type": "markdown",
   "metadata": {},
   "source": [
    "# <center>Have fun!<a class=\"tocSkip\"></center>"
   ]
  }
 ],
 "metadata": {
  "kernelspec": {
   "display_name": "Python 3 (ipykernel)",
   "language": "python",
   "name": "python3"
  },
  "language_info": {
   "codemirror_mode": {
    "name": "ipython",
    "version": 3
   },
   "file_extension": ".py",
   "mimetype": "text/x-python",
   "name": "python",
   "nbconvert_exporter": "python",
   "pygments_lexer": "ipython3",
   "version": "3.12.2"
  },
  "toc": {
   "base_numbering": 1,
   "nav_menu": {},
   "number_sections": true,
   "sideBar": true,
   "skip_h1_title": false,
   "title_cell": "Table of Contents",
   "title_sidebar": "Contents",
   "toc_cell": false,
   "toc_position": {},
   "toc_section_display": true,
   "toc_window_display": false
  },
  "varInspector": {
   "cols": {
    "lenName": 16,
    "lenType": 16,
    "lenVar": 40
   },
   "kernels_config": {
    "python": {
     "delete_cmd_postfix": "",
     "delete_cmd_prefix": "del ",
     "library": "var_list.py",
     "varRefreshCmd": "print(var_dic_list())"
    },
    "r": {
     "delete_cmd_postfix": ") ",
     "delete_cmd_prefix": "rm(",
     "library": "var_list.r",
     "varRefreshCmd": "cat(var_dic_list()) "
    }
   },
   "types_to_exclude": [
    "module",
    "function",
    "builtin_function_or_method",
    "instance",
    "_Feature"
   ],
   "window_display": false
  }
 },
 "nbformat": 4,
 "nbformat_minor": 4
}
