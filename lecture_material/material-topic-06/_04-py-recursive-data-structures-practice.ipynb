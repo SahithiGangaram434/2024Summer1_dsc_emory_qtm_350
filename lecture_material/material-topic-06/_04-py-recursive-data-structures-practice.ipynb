{
 "cells": [
  {
   "cell_type": "markdown",
   "metadata": {},
   "source": [
    "\n",
    "# <center>Python - Recursive Data Structures - Practice <a class=\"tocSkip\"></center>\n",
    "# <center>QTM 350: Data Science Computing <a class=\"tocSkip\"></center>    \n",
    "# <center>Davi Moreira <a class=\"tocSkip\"></center>"
   ]
  },
  {
   "cell_type": "markdown",
   "metadata": {},
   "source": [
    "## Introduction <a class=\"tocSkip\">\n",
    "<hr>\n",
    "\n",
    "\n",
    "This topic material is based on [Professor Mike Gelbart Algorithms and Data Structures course](https://github.com/UBC-MDS/DSCI_512_alg-data-struct). It was adapted for our purposes."
   ]
  },
  {
   "cell_type": "code",
   "execution_count": null,
   "metadata": {},
   "outputs": [],
   "source": [
    "import numpy as np\n",
    "import pandas as pd\n",
    "import matplotlib.pyplot as plt\n",
    "from collections import defaultdict, Counter"
   ]
  },
  {
   "cell_type": "markdown",
   "metadata": {},
   "source": [
    "## Exercise: tricky recursive code\n",
    "\n",
    "Explain what the following code does, and how it works:"
   ]
  },
  {
   "cell_type": "code",
   "execution_count": null,
   "metadata": {},
   "outputs": [],
   "source": [
    "def f(letters, n):\n",
    "    \"\"\"\n",
    "    Does something mysterious.\n",
    "\n",
    "    Parameters\n",
    "    ----------\n",
    "    letters : str \n",
    "        ?????\n",
    "    n : int \n",
    "        ?????\n",
    "\n",
    "    Returns\n",
    "    -------\n",
    "    ??? \n",
    "        ?????   \n",
    "\n",
    "    \"\"\"\n",
    "\n",
    "    if n == 0:\n",
    "        return [\"\"]\n",
    "\n",
    "    return [letter + l for letter in letters for l in f(letters, n-1)]"
   ]
  },
  {
   "cell_type": "code",
   "execution_count": null,
   "metadata": {},
   "outputs": [],
   "source": [
    "f(\"QTM!\", 1)"
   ]
  },
  {
   "cell_type": "markdown",
   "metadata": {},
   "source": [
    "**Answer:**"
   ]
  },
  {
   "cell_type": "markdown",
   "metadata": {},
   "source": [
    "## Exercise: Set implementation with BSTs\n",
    "\n",
    "In this exercise, you will implement a set data structure based on a binary search tree. You will write the tree as a Python class. We are providing some starter code for you below. "
   ]
  },
  {
   "cell_type": "markdown",
   "metadata": {},
   "source": [
    "###\n",
    "\n",
    "Implement a recursive function `insert` that takes a new element and inserts it into the tree. Your function should work by recursively calling `insert` on the left or right subtree depending on whether the new value is less than or greater than the tree's value, respectively. If the element is already in the tree, then the call to `insert` should do nothing. \n",
    "\n",
    "Hint: When inserting something into the tree, you should be creating a new `TreeSet` object with `TreeSet()`, then inserting the value into this newly created `TreeSet`, and then making sure this new `TreeSet` is stored in your current `TreeSet` as either `self.left` or `self.right`."
   ]
  },
  {
   "cell_type": "code",
   "execution_count": null,
   "metadata": {},
   "outputs": [],
   "source": [
    "class TreeSet:\n",
    "    \"\"\"\n",
    "    A set implementation based on a binary tree.\n",
    "    \"\"\"\n",
    "\n",
    "    def __init__(self):\n",
    "        self.value = None\n",
    "        self.left = None\n",
    "        self.right = None\n",
    "\n",
    "    \n",
    "    \n",
    "    def contains(self, value):\n",
    "        \"\"\"\n",
    "        Check to see if the binary tree has a certain value \n",
    "\n",
    "        Parameters\n",
    "        ----------\n",
    "        value : object\n",
    "            the value to search for within the tree\n",
    "\n",
    "        Returns\n",
    "        -------\n",
    "        bool \n",
    "            if contained in the tree returns True, otherwise False  \n",
    "\n",
    "        Example\n",
    "        --------\n",
    "        >>> my_set = TreeSet() \n",
    "        >>> my_set.insert(\"Attempt\") \n",
    "        >>> my_set.contains(\"Failure\")\n",
    "        False\n",
    "        \"\"\"\n",
    "        if value == self.value:\n",
    "            return True\n",
    "\n",
    "        if value < self.value:\n",
    "            if self.left is None:\n",
    "                return False\n",
    "            else:\n",
    "                return self.left.contains(value)\n",
    "        else:\n",
    "            if self.right is None:\n",
    "                return False\n",
    "            else:\n",
    "                return self.right.contains(value)\n",
    "\n",
    "    def __str__(self, s=\"\"):\n",
    "        \"\"\"\n",
    "        A crude way to print the tree. A better way would be to print the tree by depth. \n",
    "\n",
    "        Note: __str__ is a special method, like __init__, that returns a string representation of an object.\n",
    "\n",
    "        Parameters\n",
    "        ----------\n",
    "        s : str\n",
    "           the starting string value. Default is empty string\n",
    "\n",
    "        Returns\n",
    "        -------\n",
    "        str \n",
    "            aggregated items in the set\n",
    "\n",
    "        Example\n",
    "        --------\n",
    "        >>> my_set = TreeSet() \n",
    "        >>> my_set.insert(\"Try\")\n",
    "        >>> my_set.insert(\"your\")\n",
    "        >>> my_set.insert(\"best\")\n",
    "        >>> print(my_set)\n",
    "        Try, your, best,\n",
    "        \"\"\"\n",
    "\n",
    "        if self.value is None:\n",
    "            return \"(An empty tree)\"\n",
    "\n",
    "        if self.left is not None:\n",
    "            s += self.left.__str__()\n",
    "\n",
    "        s += str(self.value) + \", \"\n",
    "\n",
    "        if self.right is not None:\n",
    "            s += self.right.__str__()\n",
    "\n",
    "        return s"
   ]
  },
  {
   "cell_type": "code",
   "execution_count": null,
   "metadata": {},
   "outputs": [],
   "source": [
    "my_set = TreeSet()\n",
    "my_set.insert(\"today\")\n",
    "my_set.insert(\"hello\")\n",
    "my_set.insert(\"data science\")\n",
    "my_set.insert(\"jerry\")\n",
    "my_set.insert(\"apple\")\n",
    "my_set.insert(\"17\")\n",
    "my_set.insert(\"hello\")\n",
    "print(my_set)"
   ]
  },
  {
   "cell_type": "code",
   "execution_count": null,
   "metadata": {},
   "outputs": [],
   "source": [
    "assert my_set.contains(\"data science\")\n",
    "assert my_set.contains(\"apple\")\n",
    "assert not my_set.contains(\"18\")\n",
    "assert not my_set.contains(\"blah\")"
   ]
  },
  {
   "cell_type": "code",
   "execution_count": null,
   "metadata": {},
   "outputs": [],
   "source": [
    "my_set = TreeSet()\n",
    "my_set.insert(3)\n",
    "my_set.insert(5)\n",
    "my_set.insert(10)\n",
    "print(my_set)"
   ]
  },
  {
   "cell_type": "markdown",
   "metadata": {},
   "source": [
    "**Answer:**"
   ]
  },
  {
   "cell_type": "markdown",
   "metadata": {},
   "source": [
    "###\n",
    "\n",
    "In this topic, we empirically timed the searching operation using four approaches:\n",
    "\n",
    "1. Linear search on an unsorted list\n",
    "2. Binary search on an sorted list\n",
    "3. Python's `in` operator on an unsorted list\n",
    "4. `in` with Python's built-in `set`\n",
    "\n",
    "Similar code to that from lecture, for just Python's `set`, is reproduced below for your convenience:"
   ]
  },
  {
   "cell_type": "code",
   "execution_count": null,
   "metadata": {},
   "outputs": [],
   "source": [
    "list_sizes = [100, 1000, 10_000, 100_000, 1_000_000]\n",
    "\n",
    "results = defaultdict(list)\n",
    "results[\"size\"] = list_sizes\n",
    "\n",
    "key = -1\n",
    "x_all = np.random.randint(1e8, size=max(list_sizes))\n",
    "\n",
    "for list_size in list_sizes:\n",
    "    print('List size: ', list_size)\n",
    "    x = x_all[:list_size]\n",
    "    \n",
    "    x_set = set(x)\n",
    "    time = %timeit -q -o -r 1 (key in x_set)\n",
    "    results[\"Python set in\"].append(time.average)"
   ]
  },
  {
   "cell_type": "code",
   "execution_count": null,
   "metadata": {},
   "outputs": [],
   "source": [
    "df = pd.DataFrame(results)\n",
    "df"
   ]
  },
  {
   "cell_type": "markdown",
   "metadata": {},
   "source": [
    "Empirically measure the speed of `contains` with your `TreeSet` implementation, and then add them to the DataFrame for printing. Print out the DataFrame.\n",
    "\n",
    "(Note: for reasons of speed, we only go up to $n=10^6$ here. Populating the `TreeSet` objects with $10^7$ items would take a long time."
   ]
  },
  {
   "cell_type": "markdown",
   "metadata": {},
   "source": [
    "**Answer:**"
   ]
  },
  {
   "cell_type": "markdown",
   "metadata": {},
   "source": [
    "###\n",
    "\n",
    "Discuss your results from the previous part. How do Python's `set` and your `TreeSet` compare? Specifically:\n",
    "\n",
    "- Which method is faster?\n",
    "- What is the theoretical time complexity of `in` with a `set`, and `contains` with a `TreeSet`?\n",
    "- Are the empirical results consistent with the theoretical time complexities?\n",
    "- Are the results what you expected, overall?"
   ]
  },
  {
   "cell_type": "markdown",
   "metadata": {},
   "source": [
    "**Answer:**"
   ]
  },
  {
   "cell_type": "code",
   "execution_count": 7,
   "metadata": {},
   "outputs": [
    {
     "name": "stdout",
     "output_type": "stream",
     "text": [
      "[NbConvertApp] Converting notebook _04-py-recursive-data-structures-practice.ipynb to html\n",
      "[NbConvertApp] Writing 295680 bytes to 04-py-recursive-data-structures-practice.html\n"
     ]
    }
   ],
   "source": [
    "!jupyter nbconvert _04-py-recursive-data-structures-practice.ipynb --to html --template classic --output 04-py-recursive-data-structures-practice.html"
   ]
  },
  {
   "cell_type": "markdown",
   "metadata": {},
   "source": [
    "# <center>Have fun!<a class=\"tocSkip\"></center>"
   ]
  }
 ],
 "metadata": {
  "anaconda-cloud": {},
  "kernelspec": {
   "display_name": "Python 3 (ipykernel)",
   "language": "python",
   "name": "python3"
  },
  "language_info": {
   "codemirror_mode": {
    "name": "ipython",
    "version": 3
   },
   "file_extension": ".py",
   "mimetype": "text/x-python",
   "name": "python",
   "nbconvert_exporter": "python",
   "pygments_lexer": "ipython3",
   "version": "3.12.2"
  },
  "toc": {
   "base_numbering": 1,
   "nav_menu": {},
   "number_sections": true,
   "sideBar": false,
   "skip_h1_title": false,
   "title_cell": "Table of Contents",
   "title_sidebar": "Contents",
   "toc_cell": false,
   "toc_position": {},
   "toc_section_display": true,
   "toc_window_display": false
  },
  "varInspector": {
   "cols": {
    "lenName": 16,
    "lenType": 16,
    "lenVar": 40
   },
   "kernels_config": {
    "python": {
     "delete_cmd_postfix": "",
     "delete_cmd_prefix": "del ",
     "library": "var_list.py",
     "varRefreshCmd": "print(var_dic_list())"
    },
    "r": {
     "delete_cmd_postfix": ") ",
     "delete_cmd_prefix": "rm(",
     "library": "var_list.r",
     "varRefreshCmd": "cat(var_dic_list()) "
    }
   },
   "types_to_exclude": [
    "module",
    "function",
    "builtin_function_or_method",
    "instance",
    "_Feature"
   ],
   "window_display": false
  }
 },
 "nbformat": 4,
 "nbformat_minor": 4
}
