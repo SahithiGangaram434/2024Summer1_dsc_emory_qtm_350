{
 "cells": [
  {
   "cell_type": "markdown",
   "metadata": {},
   "source": [
    "\n",
    "# <center>Python - Time Complexity, Big O, Space Complexity <a class=\"tocSkip\"></center>\n",
    "# <center>QTM 350: Data Science Computing <a class=\"tocSkip\"></center>    \n",
    "# <center>Davi Moreira <a class=\"tocSkip\"></center>"
   ]
  },
  {
   "cell_type": "markdown",
   "metadata": {},
   "source": [
    "## Introduction <a class=\"tocSkip\">\n",
    "<hr>\n",
    "\n",
    "\n",
    "This topic material is based on [Professor Mike Gelbart Algorithms and Data Structures course](https://github.com/UBC-MDS/DSCI_512_alg-data-struct). It was adapted for our purposes."
   ]
  },
  {
   "cell_type": "code",
   "execution_count": 3,
   "metadata": {},
   "outputs": [],
   "source": [
    "import numpy as np\n",
    "import matplotlib.pyplot as plt\n",
    "import urllib.request\n",
    "from collections import defaultdict, Counter"
   ]
  },
  {
   "cell_type": "markdown",
   "metadata": {},
   "source": [
    "## Exercise: Time Complexity\n",
    "\n",
    "For each of the following functions, determine the time complexity as a function of the input $n$ using big-O notation and briefly justify your answer. If you get stuck, it's fair game to test things empirically and then try to understand what you observe. **Please state your assumptions if you don’t know how long some operation in Python takes.** \n",
    "\n",
    "The first question is done for you, as an example."
   ]
  },
  {
   "cell_type": "code",
   "execution_count": 4,
   "metadata": {},
   "outputs": [],
   "source": [
    "def example(n):\n",
    "    for i in range(n):\n",
    "        print(i)\n",
    "        print(i**2)\n",
    "        x = 9\n",
    "        y = 10"
   ]
  },
  {
   "cell_type": "code",
   "execution_count": 5,
   "metadata": {},
   "outputs": [
    {
     "name": "stdout",
     "output_type": "stream",
     "text": [
      "0\n",
      "0\n",
      "1\n",
      "1\n",
      "2\n",
      "4\n",
      "3\n",
      "9\n",
      "4\n",
      "16\n"
     ]
    }
   ],
   "source": [
    "example(5)"
   ]
  },
  {
   "cell_type": "markdown",
   "metadata": {},
   "source": [
    "**Sample Answer**: The time complexity of `example` is  $O(n)$ because the function loops over $n$ elements and only performs constant-time operations inside the loop. \n",
    "\n",
    "**Details**: \n",
    "\n",
    "1. The function contains a `for` loop that runs `n` times. \n",
    "2. Within this loop, two operations occur:\n",
    "   - `print(i)` which is a constant-time operation, \\(O(1)\\).\n",
    "   - `print(i**2)` which is also a constant-time operation, \\(O(1)\\), as the squaring of a number is a simple arithmetic operation that doesn't depend on the size of `n`.\n",
    "\n",
    "The two operations inside the loop do not alter the overall number of iterations and are independent of each other, hence, they do not multiply the complexity.\n",
    "\n",
    "3. After the loop, there are two assignments: `x = 9` and `y = 10`. Both are constant-time operations, \\(O(1)\\), and do not depend on the size of the input `n`.\n",
    "\n",
    "Since all operations inside the loop are \\(O(1)\\) and the loop runs `n` times, the total time complexity of the function is determined by the loop. \n",
    "\n",
    "Therefore, the time complexity of the function `example(n)` is linear, \\(O(n)\\), where `n` is the size of the input. The two constant-time assignments outside the loop do not change the overall complexity because constant factors and lower-order terms are not considered in big-O notation."
   ]
  },
  {
   "cell_type": "markdown",
   "metadata": {},
   "source": [
    "### \n"
   ]
  },
  {
   "cell_type": "code",
   "execution_count": 6,
   "metadata": {},
   "outputs": [],
   "source": [
    "def loopy(n):\n",
    "    for i in range(n):\n",
    "        for j in range(n):\n",
    "            print('i =', i, '  j =', j)"
   ]
  },
  {
   "cell_type": "code",
   "execution_count": 7,
   "metadata": {},
   "outputs": [
    {
     "name": "stdout",
     "output_type": "stream",
     "text": [
      "i = 0   j = 0\n",
      "i = 0   j = 1\n",
      "i = 0   j = 2\n",
      "i = 0   j = 3\n",
      "i = 1   j = 0\n",
      "i = 1   j = 1\n",
      "i = 1   j = 2\n",
      "i = 1   j = 3\n",
      "i = 2   j = 0\n",
      "i = 2   j = 1\n",
      "i = 2   j = 2\n",
      "i = 2   j = 3\n",
      "i = 3   j = 0\n",
      "i = 3   j = 1\n",
      "i = 3   j = 2\n",
      "i = 3   j = 3\n"
     ]
    }
   ],
   "source": [
    "loopy(4)"
   ]
  },
  {
   "cell_type": "markdown",
   "metadata": {},
   "source": [
    "**Answer**: The function `loopy(n)` has a nested loop structure:\n",
    "\n",
    "1. The outer loop runs `n` times.\n",
    "2. For each iteration of the outer loop, the inner loop also runs `n` times.\n",
    "\n",
    "The `print` statement inside the inner loop is a constant-time operation, \\(O(1)\\). However, since it is nested within two loops that each run `n` times, it will execute a total of `n * n` times.\n",
    "\n",
    "In big-O notation, when you have two nested loops that both run `n` times, the time complexity is quadratic, or \\(O(n^2)\\). This is because for each iteration of the first loop, the entire second loop runs to completion. Therefore, the total number of operations is the product of the number of operations in each loop.\n",
    "\n",
    "Consequently, the time complexity of the function `loopy(n)` is \\(O(n^2)\\)."
   ]
  },
  {
   "cell_type": "markdown",
   "metadata": {},
   "source": [
    "###"
   ]
  },
  {
   "cell_type": "code",
   "execution_count": 8,
   "metadata": {},
   "outputs": [],
   "source": [
    "def triangle(n):\n",
    "    for i in range(n):\n",
    "        for j in range(i):\n",
    "            print(\"+\", end='')\n",
    "        print(\"\")"
   ]
  },
  {
   "cell_type": "code",
   "execution_count": 9,
   "metadata": {},
   "outputs": [
    {
     "name": "stdout",
     "output_type": "stream",
     "text": [
      "\n",
      "+\n",
      "++\n",
      "+++\n",
      "++++\n",
      "+++++\n",
      "++++++\n"
     ]
    }
   ],
   "source": [
    "triangle(7)"
   ]
  },
  {
   "cell_type": "markdown",
   "metadata": {},
   "source": [
    "**Answer**: The `triangle(n)` function has the following structure:\n",
    "\n",
    "1. An outer loop that runs `n` times, with its index `i` ranging from 0 to `n-1`.\n",
    "2. An inner loop that depends on the current iteration of the outer loop, running `i` times, which means it runs a variable number of times depending on the value of `i`.\n",
    "\n",
    "The number of iterations for the inner loop starts at 0 (when `i` is 0) and increases by one each time the outer loop increments. This creates a series of iterations that resembles the sum of the first `n` integers, which can be calculated by the formula \\( \\frac{n(n+1)}{2} \\).\n",
    "\n",
    "The time complexity of this sum is \\(O(\\frac{n(n+1)}{2})\\), but in big-O notation, we drop constants and non-dominant terms. Thus, the complexity simplifies to \\(O(n^2)\\).\n",
    "\n",
    "However, the difference from a typical \\(O(n^2)\\) loop, like the previous `loopy(n)` function, is that the inner loop does not always run `n` times. It runs fewer times in the early iterations and more times in the later iterations, approaching `n` only on the last iteration.\n",
    "\n",
    "So, while the complexity is still quadratic, \\(O(n^2)\\), it is important to note that the function `triangle(n)` is more efficient than a function with two fully nested loops each running `n` times, because the actual number of total operations here is roughly half that of a full \\(n \\times n\\) loop structure."
   ]
  },
  {
   "cell_type": "markdown",
   "metadata": {},
   "source": [
    "###"
   ]
  },
  {
   "cell_type": "code",
   "execution_count": 10,
   "metadata": {},
   "outputs": [],
   "source": [
    "def foo(n):\n",
    "    x = np.zeros(n)\n",
    "    x = x + 1000\n",
    "    return x"
   ]
  },
  {
   "cell_type": "code",
   "execution_count": 11,
   "metadata": {},
   "outputs": [
    {
     "name": "stdout",
     "output_type": "stream",
     "text": [
      "size of x:  100000\n"
     ]
    }
   ],
   "source": [
    "print('size of x: ', len(foo(100000)))"
   ]
  },
  {
   "cell_type": "markdown",
   "metadata": {},
   "source": [
    "**Answer**: The function `foo(n)` perform operations using the `numpy` library:\n",
    "\n",
    "1. `x = np.zeros(n)`: This line creates an array of zeros with `n` elements. The creation of this array is \\(O(n)\\) since it involves initializing `n` elements to zero.\n",
    "\n",
    "2. `x = x + 1000`: This line performs element-wise addition, adding 1000 to each element in the array `x`. In `numpy`, this operation is vectorized and typically implemented efficiently. However, in terms of time complexity, it still involves performing an operation on each of the `n` elements, so this is also \\(O(n)\\).\n",
    "\n",
    "3. `return x`: Returning an array does not affect the time complexity as it's typically considered an \\(O(1)\\) operation.\n",
    "\n",
    "Therefore, the overall time complexity of `foo(n)` is \\(O(n)\\) due to the two linear-time operations. The space complexity is also \\(O(n)\\) since we are creating an array that holds `n` elements."
   ]
  },
  {
   "cell_type": "markdown",
   "metadata": {},
   "source": [
    "###"
   ]
  },
  {
   "cell_type": "code",
   "execution_count": 12,
   "metadata": {},
   "outputs": [],
   "source": [
    "def bar(n):\n",
    "    x = np.zeros(1000)\n",
    "    x = x + n\n",
    "    return x"
   ]
  },
  {
   "cell_type": "code",
   "execution_count": 13,
   "metadata": {},
   "outputs": [
    {
     "name": "stdout",
     "output_type": "stream",
     "text": [
      "size of x:  1000\n"
     ]
    }
   ],
   "source": [
    "print('size of x: ', len(bar(100000)))"
   ]
  },
  {
   "cell_type": "markdown",
   "metadata": {},
   "source": [
    "**Answer**: The function `bar(n)` performs the following operations:\n",
    "\n",
    "1. `x = np.zeros(1000)`: This creates a `numpy` array of length 1000 filled with zeros. The length of the array is fixed and does not depend on the input `n`. This is a constant-time operation, \\(O(1)\\), because it always involves initializing the same number of elements.\n",
    "\n",
    "2. `x = x + n`: This adds the value `n` to each element in the array `x`. Since the array `x` has a fixed size of 1000 elements, this operation is also constant-time, \\(O(1)\\).\n",
    "\n",
    "3. `return x`: This returns the array, which is a constant-time operation, \\(O(1)\\).\n",
    "\n",
    "The time complexity of the entire function `bar(n)` is constant, \\(O(1)\\), because none of the operations scale with the input `n`. The space complexity is also constant, \\(O(1)\\), because the size of the array `x` is fixed and does not change regardless of the input."
   ]
  },
  {
   "cell_type": "markdown",
   "metadata": {},
   "source": [
    "###"
   ]
  },
  {
   "cell_type": "code",
   "execution_count": 14,
   "metadata": {},
   "outputs": [],
   "source": [
    "def broken(n):\n",
    "    for i in range(n**2):\n",
    "        if i == n:\n",
    "            break  # \"break\" exits the innermost loop\n",
    "        print(i)"
   ]
  },
  {
   "cell_type": "code",
   "execution_count": 15,
   "metadata": {},
   "outputs": [
    {
     "name": "stdout",
     "output_type": "stream",
     "text": [
      "0\n",
      "1\n",
      "2\n",
      "3\n"
     ]
    }
   ],
   "source": [
    "broken(4)"
   ]
  },
  {
   "cell_type": "markdown",
   "metadata": {},
   "source": [
    "**Answer**:The function `broken(n)` contains a loop and a conditional statement that involves breaking out of the loop:\n",
    "\n",
    "1. The loop is set to run `n * 2` times, which suggests a linear relationship with `n`, resulting in a time complexity of \\(O(n)\\).\n",
    "\n",
    "2. Inside the loop, there's a check `if i == n:` followed by a `break` statement. This means the loop will terminate when `i` is equal to `n`. Since the range starts at 0, the loop will run `n + 1` times before the condition `i == n` is true and the loop exits (`n` iterations to reach `n`, plus one more to meet the condition and trigger the `break`).\n",
    "\n",
    "The time complexity of this function is \\(O(n)\\) because the loop runs a number of times proportional to `n` before the break statement is executed. However, the actual number of operations performed will be `n + 1` in the worst case (when `i` reaches `n`), which is still considered linear time since constants are disregarded in big-O notation. The `print(i)` statement is outside the loop, so it's executed only once and does not affect the overall time complexity of the function."
   ]
  },
  {
   "cell_type": "markdown",
   "metadata": {},
   "source": [
    "###"
   ]
  },
  {
   "cell_type": "code",
   "execution_count": 16,
   "metadata": {},
   "outputs": [],
   "source": [
    "def cabin(n):\n",
    "    i = n\n",
    "    while i > 1:\n",
    "        print('i = ', i)\n",
    "        i = i // 2  "
   ]
  },
  {
   "cell_type": "markdown",
   "metadata": {},
   "source": [
    "Note: the `//` operator performs integer division, meaning the result is rounded *down* to the nearest integer. "
   ]
  },
  {
   "cell_type": "code",
   "execution_count": 17,
   "metadata": {},
   "outputs": [
    {
     "name": "stdout",
     "output_type": "stream",
     "text": [
      "i =  2048\n",
      "i =  1024\n",
      "i =  512\n",
      "i =  256\n",
      "i =  128\n",
      "i =  64\n",
      "i =  32\n",
      "i =  16\n",
      "i =  8\n",
      "i =  4\n",
      "i =  2\n"
     ]
    }
   ],
   "source": [
    "cabin(2048)"
   ]
  },
  {
   "cell_type": "markdown",
   "metadata": {},
   "source": [
    "**Answer**: The function `cabin(n)` uses a loop that iteratively halves the value of `i` at each step, starting from `n` and continuing until `i` becomes less than or equal to 1. This type of loop has a logarithmic time complexity, because the number of iterations it takes for `i` to reach 1 is the number of times `n` can be divided by 2. This is the definition of the logarithm base 2.\n",
    "\n",
    "Specifically, the time complexity of this function is $O(\\log_2 n)$, which simplifies to \\(O(\\log n)\\) in big-O notation since the base of logarithms is not considered in this context. The `print` statement within the loop is a constant-time operation and does not affect the overall logarithmic time complexity.\n",
    "\n",
    "The function will execute approximately \\(\\log_2 n\\) print statements before completing, where each step reduces `i` by a factor of 2 through integer division (indicated by the `//` operator). The space complexity is \\(O(1)\\) because there are no data structures that grow with the size of the input `n`; only the integer `i` is being manipulated."
   ]
  },
  {
   "cell_type": "markdown",
   "metadata": {
    "tags": []
   },
   "source": [
    "###"
   ]
  },
  {
   "cell_type": "code",
   "execution_count": 18,
   "metadata": {},
   "outputs": [],
   "source": [
    "def cabin10(n):\n",
    "    i = n\n",
    "    while i > 1:\n",
    "        print('i = ', i)\n",
    "        i = i // 10"
   ]
  },
  {
   "cell_type": "code",
   "execution_count": 19,
   "metadata": {},
   "outputs": [
    {
     "name": "stdout",
     "output_type": "stream",
     "text": [
      "i =  2048\n",
      "i =  204\n",
      "i =  20\n",
      "i =  2\n"
     ]
    }
   ],
   "source": [
    "cabin10(2048)"
   ]
  },
  {
   "cell_type": "markdown",
   "metadata": {},
   "source": [
    "**Answer**: The function `cabin10(n)` is similar to the previous `cabin(n)` function, but instead of halving the variable `i` in each iteration, it divides `i` by 10.\n",
    "\n",
    "Here's the breakdown of the loop:\n",
    "\n",
    "1. The loop begins with `i` set to `n`.\n",
    "2. The loop continues until `i` is greater than 1.\n",
    "3. During each iteration of the loop, `i` is divided by 10 using integer division (`i = i // 10`).\n",
    "\n",
    "Each iteration of the loop reduces `i` by a factor of 10. This means that the number of iterations needed to reduce `n` to 1 is the number of times you can divide `n` by 10, which is the base-10 logarithm of `n`. Therefore, the time complexity of this function is $O(\\log_{10} n)$.\n",
    "\n",
    "In big-O notation, we omit the base of the logarithm because logarithms of different bases are equivalent up to a constant factor (due to the change of base formula for logarithms), and big-O notation ignores constant factors. Therefore, the time complexity is simply expressed as $O(\\log n)$.\n",
    "\n",
    "The space complexity of the function is $O(1)$, as there are no data structures that grow with the size of the input; the function only uses a fixed amount of additional space for the variable `i`."
   ]
  },
  {
   "cell_type": "markdown",
   "metadata": {
    "tags": []
   },
   "source": [
    "###\n",
    "For this question, answer in terms of both $m$ and $n$."
   ]
  },
  {
   "cell_type": "code",
   "execution_count": 20,
   "metadata": {},
   "outputs": [],
   "source": [
    "def blahblah(n, m):\n",
    "    x = 0\n",
    "\n",
    "    for i in range(n):\n",
    "        for j in range(m):\n",
    "            x = x + 1\n",
    "\n",
    "    for i in range(n):\n",
    "        x = x + 1\n",
    "\n",
    "    for i in range(m):\n",
    "        x = x + 1\n",
    "        \n",
    "    return x"
   ]
  },
  {
   "cell_type": "code",
   "execution_count": 21,
   "metadata": {},
   "outputs": [
    {
     "data": {
      "text/plain": [
       "11"
      ]
     },
     "execution_count": 21,
     "metadata": {},
     "output_type": "execute_result"
    }
   ],
   "source": [
    "blahblah(2,3)"
   ]
  },
  {
   "cell_type": "markdown",
   "metadata": {},
   "source": [
    "**Answer**: The function `blahblah(n, m)` consists of three separate loops:\n",
    "\n",
    "1. A nested loop where `i` ranges from `0` to `n-1` and for each `i`, `j` ranges from `0` to `m-1`. Here, `x` is incremented by 1 exactly `n * m` times.\n",
    "2. A single loop where `i` ranges from `0` to `n-1`, incrementing `x` by 1 each time, which happens `n` times.\n",
    "3. Another single loop where `i` ranges from `0` to `m-1`, incrementing `x` by 1 each time, which happens `m` times.\n",
    "\n",
    "To find the total time complexity, we sum the number of times `x` is incremented across all loops:\n",
    "\n",
    "- The first set of nested loops contribute a complexity of \\(O(nm)\\).\n",
    "- The second loop contributes a complexity of \\(O(n)\\).\n",
    "- The third loop contributes a complexity of \\(O(m)\\).\n",
    "\n",
    "When adding these together, the combined time complexity is \\(O(nm + n + m)\\). However, in big-O notation, we typically only note the most significant term, as it dominates the growth rate as `n` and `m` increase. Since \\(nm\\) is typically larger than `n` or `m` by themselves, the overall time complexity simplifies to \\(O(nm)\\).\n",
    "\n",
    "Therefore, the time complexity of the function `blahblah(n, m)` is \\(O(nm)\\). The space complexity remains \\(O(1)\\) because the function uses a constant amount of space; it only maintains the single counter `x`, regardless of the sizes of `n` and `m`."
   ]
  },
  {
   "cell_type": "markdown",
   "metadata": {
    "tags": []
   },
   "source": [
    "###\n",
    "For this question, answer in terms of both $m$ and $n$."
   ]
  },
  {
   "cell_type": "code",
   "execution_count": 22,
   "metadata": {},
   "outputs": [],
   "source": [
    "def bllllergh(n, m):\n",
    "    x = 0\n",
    "    for i in range(n):\n",
    "        for j in range(m):\n",
    "            for k in range(m):\n",
    "                x = x + 1\n",
    "    for i in range(n):\n",
    "        for j in range(n):\n",
    "            for k in range(m):\n",
    "                x = x + 1\n",
    "    return x"
   ]
  },
  {
   "cell_type": "code",
   "execution_count": 23,
   "metadata": {},
   "outputs": [
    {
     "data": {
      "text/plain": [
       "30"
      ]
     },
     "execution_count": 23,
     "metadata": {},
     "output_type": "execute_result"
    }
   ],
   "source": [
    "bllllergh(2,3)"
   ]
  },
  {
   "cell_type": "markdown",
   "metadata": {},
   "source": [
    "**Answer**: The function `blllergh(n, m)` consists of two separate sets of nested loops:\n",
    "\n",
    "1. The first set is a triple-nested loop with `i` in range `n`, `j` in range `m`, and `k` also in range `m`. For each iteration of `i`, the inner two loops run `m * m` times, resulting in `n * m * m` increments of `x`.\n",
    "2. The second set is a triple-nested loop with `i` in range `n`, `j` in range `n`, and `k` in range `m`. For each iteration of `i`, the inner two loops run `n * m` times, resulting in `n * n * m` increments of `x`.\n",
    "\n",
    "The total number of increments of `x` can be found by summing the increments from both sets of loops:\n",
    "\n",
    "- From the first set: $n \\times m \\times m$ which is $O(n \\times m^2)$.\n",
    "- From the second set: $n \\times n \\times m$ which is $O(n^2 \\times m)$.\n",
    "\n",
    "Combining both, we get a total of $O(n \\times m^2 + n^2 \\times m)$. In big-O notation, we express the complexity by the largest term, as it is the dominant term that dictates the growth rate of the function. If we cannot determine whether `n` is larger than `m` or vice versa, we keep both terms because they represent different aspects of the input size and we cannot drop one in favor of the other without additional information.\n",
    "\n",
    "Therefore, the time complexity of the function `blllergh(n, m)` is $O(n \\times m^2 + n^2 \\times m)$. The space complexity remains $O(1)$ because no additional space is used that scales with the size of the input; the function only increments and returns the single variable `x`."
   ]
  },
  {
   "cell_type": "markdown",
   "metadata": {},
   "source": [
    "###"
   ]
  },
  {
   "cell_type": "code",
   "execution_count": 24,
   "metadata": {},
   "outputs": [],
   "source": [
    "def log_cabin(n):\n",
    "    for i in range(n):\n",
    "        print('i = ', i)\n",
    "        for j in range(n//3):\n",
    "            print('j = ', j)\n",
    "            cabin(n)\n",
    "        print('-----------')"
   ]
  },
  {
   "cell_type": "code",
   "execution_count": 25,
   "metadata": {},
   "outputs": [
    {
     "name": "stdout",
     "output_type": "stream",
     "text": [
      "i =  0\n",
      "j =  0\n",
      "i =  4\n",
      "i =  2\n",
      "-----------\n",
      "i =  1\n",
      "j =  0\n",
      "i =  4\n",
      "i =  2\n",
      "-----------\n",
      "i =  2\n",
      "j =  0\n",
      "i =  4\n",
      "i =  2\n",
      "-----------\n",
      "i =  3\n",
      "j =  0\n",
      "i =  4\n",
      "i =  2\n",
      "-----------\n"
     ]
    }
   ],
   "source": [
    "log_cabin(4)"
   ]
  },
  {
   "cell_type": "markdown",
   "metadata": {},
   "source": [
    "**Answer**: The function `log_cabin(n)` includes nested loops and a recursive function call:\n",
    "\n",
    "1. The outer loop runs `n` times.\n",
    "2. Inside the outer loop, there's an inner loop that runs `n/3` times. Since `n/3` is essentially dividing `n` by a constant, the time complexity for this loop is still $O(n)$.\n",
    "3. Inside the inner loop, there is a call to the function `cabin(n)`. From a previous analysis, we determined that `cabin(n)` has a logarithmic time complexity of $O(\\log n)$.\n",
    "\n",
    "To calculate the overall time complexity, we consider the work done at each level:\n",
    "\n",
    "- The first loop contributes $O(n)$.\n",
    "- The second loop contributes $O(n)$, but since it's inside the first loop, their combined contribution is $O(n^2)$.\n",
    "- The call to `cabin(n)` inside the inner loop introduces a factor of $O(\\log n)$.\n",
    "\n",
    "Therefore, for each iteration of the inner loop, the `cabin(n)` function is called, which means the time complexity for all calls to `cabin(n)` within the entire execution of `log_cabin(n)` will be $O(n^2 \\log n)$.\n",
    "\n",
    "It's worth noting that if the recursive call to `cabin(n)` were actually `cabin(n//3)` or similar, this would change the analysis as the recursive calls would reduce the size of the problem in each iteration. However, since `cabin(n)` is called with the full size `n` every time, it does not reduce the problem size and the complexity is determined by the number of times it's called, which is proportional to the number of iterations of the inner loop.\n",
    "\n",
    "In summary, the time complexity of `log_cabin(n)` is $O(n^2 \\log n)$, and the space complexity is $O(1)$ plus the space complexity of the recursive calls to `cabin(n)`, which we previously determined to be $O(1)$ as well. However, if we take into account the space used by the system stack during recursion, each recursive call to `cabin(n)` adds to the call stack, resulting in a space complexity that would be $O(\\log n)$ due to the depth of the recursive calls. Thus, the total space complexity would be $O(\\log n)$ accounting for recursion stack space."
   ]
  },
  {
   "cell_type": "markdown",
   "metadata": {
    "tags": []
   },
   "source": [
    "###"
   ]
  },
  {
   "cell_type": "code",
   "execution_count": 26,
   "metadata": {},
   "outputs": [],
   "source": [
    "def oh_no(n):\n",
    "    i = 0\n",
    "    while i < n:\n",
    "        i = i - 1"
   ]
  },
  {
   "cell_type": "markdown",
   "metadata": {},
   "source": [
    "**Answer**: The function `oh_no(n)` is defined with a while loop that, rather than incrementing towards a termination condition, actually decrements `i` indefinitely. Here is what happens in the loop:\n",
    "\n",
    "1. The variable `i` is initialized to `0`.\n",
    "2. The while loop condition is checked, which is `i < n`. Since `i` starts at `0`, the condition will be `True` for any `n > 0`.\n",
    "3. Within the loop, `i` is decremented by `1` with each iteration.\n",
    "\n",
    "The key point here is that the decrementing of `i` (`i = i - 1`) ensures that `i` will never reach `n`, which means the loop will never terminate naturally for positive `n`. Instead, it creates an infinite loop, and therefore we cannot determine a standard time complexity using big-O notation as the function does not complete.\n",
    "\n",
    "This is likely an error in the function's logic, as a loop that doesn't terminate under normal conditions is not a behavior that we typically want in a program. If this function were to be used in a real-world scenario, it would result in a program that hangs indefinitely, likely leading to a crash or a forceful termination by the user or system."
   ]
  },
  {
   "cell_type": "markdown",
   "metadata": {},
   "source": [
    "## Exercise: Space Complexity\n",
    "\n",
    "For each of the following functions, determine the space complexity as a function of the input $n$ using big-O notation and briefly justify your answer. "
   ]
  },
  {
   "cell_type": "markdown",
   "metadata": {},
   "source": [
    "###"
   ]
  },
  {
   "cell_type": "code",
   "execution_count": 27,
   "metadata": {},
   "outputs": [],
   "source": [
    "def foo(n):\n",
    "    x = np.random.rand(n)\n",
    "    y = np.random.rand(n)\n",
    "    total = 0\n",
    "    for x_i in x:\n",
    "        for y_i in y:\n",
    "            total += x_i*y_i\n",
    "    return total"
   ]
  },
  {
   "cell_type": "markdown",
   "metadata": {},
   "source": [
    "**Answer**: The function `foo(n)` involves creating two arrays of random numbers and then computing the product of each possible pair, one from each array, and summing up these products.\n",
    "\n",
    "Let's analyze the space complexity:\n",
    "\n",
    "1. `x = np.random.rand(n)`: This line creates an array of `n` random numbers. It requires \\(O(n)\\) space.\n",
    "2. `y = np.random.rand(n)`: Similarly, this creates another array of `n` random numbers, also requiring \\(O(n)\\) space.\n",
    "\n",
    "The two arrays `x` and `y` are the largest data structures that scale with the input `n`. The rest of the variables (`total`, `x_i`, `y_i`) use a constant amount of space.\n",
    "\n",
    "The space complexity of the function is the sum of the space used by `x` and `y`. Since both `x` and `y` require \\(O(n)\\) space, the total space complexity of the function is \\(O(n) + O(n)\\), which simplifies to \\(O(n)\\).\n",
    "\n",
    "Therefore, the space complexity of the `foo(n)` function is \\(O(n)\\), since the space required grows linearly with the size of the input `n`. The calculation of products and their sum does not require additional space that scales with `n`, as `total` is just a single number that gets updated in place."
   ]
  },
  {
   "cell_type": "markdown",
   "metadata": {},
   "source": [
    "###"
   ]
  },
  {
   "cell_type": "code",
   "execution_count": 28,
   "metadata": {},
   "outputs": [],
   "source": [
    "def bar(n):\n",
    "    x = np.zeros(1000)\n",
    "    x = x + n\n",
    "    return x"
   ]
  },
  {
   "cell_type": "markdown",
   "metadata": {},
   "source": [
    "**Answer**: The space complexity of the function `bar(n)` is determined by the size of the data structures that are proportional to the input size. \n",
    "\n",
    "In this function:\n",
    "\n",
    "1. `x = np.zeros(1000)`: This line creates an array with 1000 elements, all initialized to zero. The size of this array is constant, regardless of the input `n`. \n",
    "\n",
    "2. `x = x + n`: This line adds `n` to each element of the array `x`. While this operation depends on the value of `n`, it does not increase the size of the array. The space used by the array remains constant at 1000 elements.\n",
    "\n",
    "3. `return x`: This returns the array, which is already accounted for in the space complexity.\n",
    "\n",
    "Since the size of the array `x` is fixed and does not change with the input `n`, the space complexity of the function is \\(O(1)\\), meaning it is constant. This is because no additional space is used that scales with the size of the input; the function only maintains the array `x` with a fixed size of 1000."
   ]
  },
  {
   "cell_type": "markdown",
   "metadata": {},
   "source": [
    "###"
   ]
  },
  {
   "cell_type": "code",
   "execution_count": 29,
   "metadata": {},
   "outputs": [],
   "source": [
    "def FUNCTION(n):\n",
    "    x = set()\n",
    "    for i in range(n):\n",
    "        for j in range(n):\n",
    "            x.add(j)\n",
    "    return x"
   ]
  },
  {
   "cell_type": "markdown",
   "metadata": {},
   "source": [
    "**Answer**: The space complexity of `FUNCTION(n)` depends on the size of the data structures that are proportional to the input size `n`.\n",
    "\n",
    "The function initializes an empty set `x` and then enters a nested loop. In each iteration of the inner loop, it adds the value `j` to the set `x`.\n",
    "\n",
    "Here's the analysis:\n",
    "\n",
    "1. Sets in Python do not allow duplicates. The inner loop runs `n` times for each iteration of the outer loop, which also runs `n` times, but `j` takes on the values `0` to `n-1` in each inner loop. Therefore, each possible value of `j` will be attempted to be added to the set `n` times, but only one instance of each unique `j` will be stored.\n",
    "   \n",
    "2. By the end of the looping, `x` will contain `n` unique elements (since `j` ranges from `0` to `n-1`).\n",
    "\n",
    "Thus, the space complexity of this function is \\(O(n)\\) because the size of the set `x` grows linearly with the input `n`, despite the quadratic number of iterations. The set `x` will have at most `n` elements after the completion of the loops, regardless of the number of attempts made to add duplicate items."
   ]
  },
  {
   "cell_type": "code",
   "execution_count": 30,
   "metadata": {},
   "outputs": [
    {
     "name": "stdout",
     "output_type": "stream",
     "text": [
      "[NbConvertApp] Converting notebook _01-py-complexity-big-O-practice-solutions.ipynb to html\n",
      "[NbConvertApp] Writing 326026 bytes to 01-py-complexity-big-O-practice-solutions.html\n"
     ]
    }
   ],
   "source": [
    "!jupyter nbconvert _01-py-complexity-big-O-practice-solutions.ipynb --to html --template classic --output 01-py-complexity-big-O-practice-solutions.html"
   ]
  },
  {
   "cell_type": "markdown",
   "metadata": {},
   "source": [
    "# <center>Have fun!<a class=\"tocSkip\"></center>"
   ]
  }
 ],
 "metadata": {
  "anaconda-cloud": {},
  "kernelspec": {
   "display_name": "Python 3 (ipykernel)",
   "language": "python",
   "name": "python3"
  },
  "language_info": {
   "codemirror_mode": {
    "name": "ipython",
    "version": 3
   },
   "file_extension": ".py",
   "mimetype": "text/x-python",
   "name": "python",
   "nbconvert_exporter": "python",
   "pygments_lexer": "ipython3",
   "version": "3.12.2"
  },
  "toc": {
   "base_numbering": 1,
   "nav_menu": {},
   "number_sections": true,
   "sideBar": false,
   "skip_h1_title": false,
   "title_cell": "Table of Contents",
   "title_sidebar": "Contents",
   "toc_cell": false,
   "toc_position": {},
   "toc_section_display": true,
   "toc_window_display": false
  },
  "varInspector": {
   "cols": {
    "lenName": 16,
    "lenType": 16,
    "lenVar": 40
   },
   "kernels_config": {
    "python": {
     "delete_cmd_postfix": "",
     "delete_cmd_prefix": "del ",
     "library": "var_list.py",
     "varRefreshCmd": "print(var_dic_list())"
    },
    "r": {
     "delete_cmd_postfix": ") ",
     "delete_cmd_prefix": "rm(",
     "library": "var_list.r",
     "varRefreshCmd": "cat(var_dic_list()) "
    }
   },
   "types_to_exclude": [
    "module",
    "function",
    "builtin_function_or_method",
    "instance",
    "_Feature"
   ],
   "window_display": false
  }
 },
 "nbformat": 4,
 "nbformat_minor": 4
}
